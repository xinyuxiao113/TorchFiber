{
 "cells": [
  {
   "cell_type": "code",
   "execution_count": 40,
   "metadata": {},
   "outputs": [],
   "source": [
    "import torch\n",
    "import torch.nn as nn\n",
    "import torch.optim as optim\n",
    "\n",
    "class TwoPartNetwork(nn.Module):\n",
    "    def __init__(self):\n",
    "        super(TwoPartNetwork, self).__init__()\n",
    "        self.part1 = nn.Linear(10, 20)\n",
    "        self.part2 = nn.Linear(20, 1)\n",
    "\n",
    "    def forward(self, x):\n",
    "        x = self.part1(x)\n",
    "        x = torch.relu(x)\n",
    "        x = self.part2(x)\n",
    "        return x\n",
    "\n",
    "\n",
    "import torch.optim as optim\n",
    "\n",
    "import torch.optim as optim\n",
    "\n",
    "class AlterOptimizer(optim.Optimizer):\n",
    "    def __init__(self, params_list, lr_list, alternate=True):\n",
    "        assert len(params_list) == len(lr_list), \"每组参数必须有对应的学习率\"\n",
    "        \n",
    "        # 初始化基类\n",
    "        optimizers_params = []\n",
    "        for params, lr in zip(params_list, lr_list):\n",
    "            optimizers_params.append({'params': params, 'lr': lr})\n",
    "        super(AlterOptimizer, self).__init__(optimizers_params, {})\n",
    "\n",
    "        self.optimizers = [\n",
    "            optim.Adam(group['params'], lr=group['lr']) for group in self.param_groups\n",
    "        ]\n",
    "        self.alternate = alternate\n",
    "        self.current_opt_index = 0  # 当前优化器的索引\n",
    "\n",
    "    def step(self, closure=None):\n",
    "        # 如果设置为轮流优化，则每次只更新当前优化器\n",
    "        if self.alternate:\n",
    "            loss = None\n",
    "            if closure is not None:\n",
    "                loss = closure()\n",
    "            self.optimizers[self.current_opt_index].step()\n",
    "            # 更新当前优化器索引，循环到下一个\n",
    "            self.current_opt_index = (self.current_opt_index + 1) % len(self.optimizers)\n",
    "            return loss\n",
    "        else:\n",
    "            # 同时更新所有优化器\n",
    "            for optimizer in self.optimizers:\n",
    "                optimizer.step()\n",
    "\n",
    "    def zero_grad(self, set_to_none=False):\n",
    "        for optimizer in self.optimizers:\n",
    "            optimizer.zero_grad(set_to_none=set_to_none)\n",
    "\n",
    "\n",
    "\n",
    "# 假设输入和目标数据\n",
    "input = torch.randn(5, 10)\n",
    "target = torch.randn(5, 1)\n",
    "\n",
    "# 损失函数\n",
    "loss_function = nn.MSELoss()"
   ]
  },
  {
   "cell_type": "code",
   "execution_count": 43,
   "metadata": {},
   "outputs": [],
   "source": [
    "model = TwoPartNetwork()\n",
    "\n",
    "custom_optimizer = AlterOptimizer(\n",
    "    [model.part1.parameters(), model.part2.parameters()], \n",
    "    [0.01, 0.001],\n",
    "    alternate=True  # 可以设置为 False 以同时优化两部分参数\n",
    ")\n",
    "\n",
    "scheduler = optim.lr_scheduler.StepLR(custom_optimizer, step_size=30, gamma=0.1)\n",
    "num_epochs = 100\n",
    "L1 = []\n",
    "for epoch in range(num_epochs):\n",
    "    custom_optimizer.zero_grad()\n",
    "    \n",
    "    output = model(input)\n",
    "    loss = loss_function(output, target)\n",
    "\n",
    "    loss.backward()\n",
    "    custom_optimizer.step()\n",
    "    scheduler.step()\n",
    "    L1.append(loss.item())"
   ]
  },
  {
   "cell_type": "code",
   "execution_count": 44,
   "metadata": {},
   "outputs": [],
   "source": [
    "model = TwoPartNetwork()\n",
    "\n",
    "custom_optimizer = AlterOptimizer(\n",
    "    [model.part1.parameters(), model.part2.parameters()], \n",
    "    [0.01, 0.001],\n",
    "    alternate=False  # 可以设置为 False 以同时优化两部分参数\n",
    ")\n",
    "scheduler = optim.lr_scheduler.StepLR(custom_optimizer, step_size=30, gamma=0.1)\n",
    "num_epochs = 100\n",
    "L2 = []\n",
    "for epoch in range(num_epochs):\n",
    "    custom_optimizer.zero_grad()\n",
    "    \n",
    "    output = model(input)\n",
    "    loss = loss_function(output, target)\n",
    "\n",
    "    loss.backward()\n",
    "    custom_optimizer.step()\n",
    "    scheduler.step()\n",
    "    L2.append(loss.item())"
   ]
  },
  {
   "cell_type": "code",
   "execution_count": 45,
   "metadata": {},
   "outputs": [
    {
     "data": {
      "text/plain": [
       "[<matplotlib.lines.Line2D at 0x7f1ea8bb8c10>]"
      ]
     },
     "execution_count": 45,
     "metadata": {},
     "output_type": "execute_result"
    },
    {
     "data": {
      "image/png": "[encoded data removed]",
      "text/plain": [
       "<Figure size 640x480 with 1 Axes>"
      ]
     },
     "metadata": {},
     "output_type": "display_data"
    }
   ],
   "source": [
    "import matplotlib.pyplot as plt\n",
    "\n",
    "plt.plot(L1, label='Alternate')\n",
    "plt.plot(L2, label='Simultaneous')"
   ]
  }
 ],
 "metadata": {
  "kernelspec": {
   "display_name": "fiber",
   "language": "python",
   "name": "python3"
  },
  "language_info": {
   "codemirror_mode": {
    "name": "ipython",
    "version": 3
   },
   "file_extension": ".py",
   "mimetype": "text/x-python",
   "name": "python",
   "nbconvert_exporter": "python",
   "pygments_lexer": "ipython3",
   "version": "3.9.12"
  }
 },
 "nbformat": 4,
 "nbformat_minor": 2
}
