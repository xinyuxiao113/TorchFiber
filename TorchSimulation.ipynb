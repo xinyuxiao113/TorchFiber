{
 "cells": [
  {
   "cell_type": "code",
   "execution_count": 1,
   "metadata": {},
   "outputs": [],
   "source": [
    "import argparse,numpy as np,  os, pickle, yaml, torch\n",
    "from src.TorchSimulation.transmitter import simpleWDMTx,choose_sps\n",
    "from src.TorchSimulation.channel import manakov_ssf, choose_dz, get_beta2\n",
    "from src.TorchSimulation.receiver import simpleRx, BER\n",
    "import warnings\n",
    "warnings.filterwarnings('error')\n",
    "\n",
    "with open('configs/simulation/test.yaml', 'r') as file:\n",
    "    args = yaml.safe_load(file)\n",
    "\n",
    "# Set Global params\n",
    "M = args['M']                   # QAM format.\n",
    "Ltotal = args['Ltotal']         # Total Length. [km]\n",
    "Lspan = args['Lspan']           # Length per span. [km]\n",
    "alpha = args['alpha']           # Attenuation parameter. [dB/km]\n",
    "D = args['D']                   # Dispersion parameter.  [ps/nm/km]\n",
    "Dpmd = args['Dpmd']             # PMD parameter. [ps/sqrt(km)]\n",
    "PMD = args['PMD']               # Simulation PMD or not. True or False.\n",
    "Lcorr = args['Lcorr']           # Fiber Correlation length. [km]\n",
    "Fc = args['Fc']                 # Central frequency [Hz]\n",
    "gamma = args['gamma']           # Nonlinear parameter. [/W/km]\n",
    "amp = args['amp']               # Amplifier type. 'edfa', 'ideal', or None. \n",
    "NF = args['NF']                 # EDFA Noise Figure. [dB]\n",
    "beta2 = get_beta2(D, Fc)        # [s^2/km]\n",
    "spacing_factor = args['SF'] # freqspace/Rs"
   ]
  },
  {
   "cell_type": "code",
   "execution_count": 2,
   "metadata": {},
   "outputs": [
    {
     "name": "stdout",
     "output_type": "stream",
     "text": [
      "\n",
      "#######      Nch:3       Rs:40GHz     Pch:-1dBm        #######\n",
      "#######     Tx sps = 4,  simulation hz=0.5km       #######\n"
     ]
    },
    {
     "name": "stdout",
     "output_type": "stream",
     "text": [
      "Sample rate fa: 1.6e+11, Cut off frequency fc: 7.2e+10, fa > 2fc: True\n",
      " simpleWDMTx complete, time cost(s):0.722419261932373\n",
      " manakov_ssf complete, time cost(s):98.14984631538391\n"
     ]
    }
   ],
   "source": [
    "device = torch.device('cuda' if torch.cuda.is_available() else 'cpu')\n",
    "for Nch in args['Nch']:\n",
    "    for Rs in args['Rs']:\n",
    "        Rs = Rs * 1e9   # symbol rate [Hz]\n",
    "        for Pch_dBm in args['Pch']:\n",
    "            print(f'\\n#######      Nch:{Nch}       Rs:{int(Rs/1e9)}GHz     Pch:{Pch_dBm}dBm        #######', flush=True)\n",
    "            freqspace = Rs * spacing_factor\n",
    "            sps = choose_sps(Nch, freqspace, Rs)\n",
    "            hz = choose_dz(freqspace, Lspan, Pch_dBm, Nch, beta2, gamma)\n",
    "            print(f'#######     Tx sps = {sps},  simulation hz={hz}km       #######', flush=True)\n",
    "            \n",
    "            tx_seed = np.random.randint(0, 2**32)\n",
    "            ch_seed = np.random.randint(0, 2**32)\n",
    "            rx_seed = np.random.randint(0, 2**32)\n",
    "\n",
    "            tx_path = args['path'] + f'/Tx_Nch{Nch}_{int(Rs/1e9)}GHz_Pch{Pch_dBm}dBm'\n",
    "            channel_path = args['path'] + f'/Channel_Nch{Nch}_{int(Rs/1e9)}GHz_Pch{Pch_dBm}dBm'\n",
    "\n",
    "            ## Step 1: Tx\n",
    "            tx_data = simpleWDMTx(tx_seed, args['batch'], M, args['Nbits'], sps, Nch, args['Nmodes'], Rs, freqspace, Pch_dBm, device=device)\n",
    "            with open(tx_path, 'wb') as file: pickle.dump(tx_data['config'], file)\n",
    "\n",
    "            ## Step 2: channel\n",
    "            trans_data = manakov_ssf(tx_data, ch_seed, Ltotal, Lspan, hz, alpha, D, gamma, Fc,amp, NF,order=1, openPMD=PMD, device=device)\n",
    "            with open(channel_path, 'wb') as file: pickle.dump(trans_data, file)\n",
    "\n",
    "            # ## Step 3: Rx \n",
    "            # rx_data = simpleRx(rx_seed, trans_data, tx_data['config'], Nch//2, rx_sps=2, method='frequency cut')"
   ]
  },
  {
   "cell_type": "code",
   "execution_count": 3,
   "metadata": {},
   "outputs": [],
   "source": [
    "rx_data = simpleRx(rx_seed, trans_data['signal'], tx_data['config'], Nch//2, rx_sps=2, method='frequency cut', device=device)"
   ]
  },
  {
   "cell_type": "code",
   "execution_count": null,
   "metadata": {},
   "outputs": [],
   "source": [
    "# {\n",
    "#     'Tx':  tx_data['SymbTx'][:,:,2,:],\n",
    "#     'Rx(sps=2)':  rx_data['signal'],\n",
    "#     'Rx(sps=1)':  \n",
    "# }"
   ]
  },
  {
   "cell_type": "code",
   "execution_count": 4,
   "metadata": {},
   "outputs": [
    {
     "name": "stdout",
     "output_type": "stream",
     "text": [
      "torch.Size([20, 400000, 2]) torch.Size([20, 200000, 2]) torch.Size([20])\n"
     ]
    }
   ],
   "source": [
    "from src.TorchDSP.baselines import _CDCDSP, CDC, DDLMS\n",
    "Rx = rx_data['signal']\n",
    "Tx = tx_data['SymbTx'][:,:,tx_data['config']['Nch']//2,:].to(torch.complex64)/np.sqrt(10)\n",
    "Fs = torch.tensor([2*tx_data['config']['Rs']]*args['batch'])\n",
    "print(Rx.shape, Tx.shape, Fs.shape)"
   ]
  },
  {
   "cell_type": "code",
   "execution_count": 5,
   "metadata": {},
   "outputs": [],
   "source": [
    "E = CDC(Rx.to('cuda:0'), Fs.to('cuda:0'),  2000e3)  # [batch, Nfft, Nmodes]"
   ]
  },
  {
   "cell_type": "code",
   "execution_count": 6,
   "metadata": {},
   "outputs": [],
   "source": [
    "F = DDLMS(E.to('cpu'), Tx.to('cpu'), sps=2, lead_symbols=2000)"
   ]
  },
  {
   "cell_type": "code",
   "execution_count": 7,
   "metadata": {},
   "outputs": [],
   "source": [
    "F = DDLMS(E.to('cuda:0'), Tx.to('cuda:0'), sps=2, lead_symbols=2000)"
   ]
  },
  {
   "cell_type": "code",
   "execution_count": 23,
   "metadata": {},
   "outputs": [
    {
     "data": {
      "text/plain": [
       "8.507282"
      ]
     },
     "execution_count": 23,
     "metadata": {},
     "output_type": "execute_result"
    }
   ],
   "source": [
    "np.mean(BER(F.val[0,10000:], Tx[:,F.t.start:F.t.stop,:][0,10000:])['Qsq'])"
   ]
  },
  {
   "cell_type": "code",
   "execution_count": 24,
   "metadata": {},
   "outputs": [
    {
     "name": "stderr",
     "output_type": "stream",
     "text": [
      "Exception ignored in: <_io.FileIO name='_outputs/Qfactor/Nmodes2/CDC.pkl' mode='rb' closefd=True>\n",
      "Traceback (most recent call last):\n",
      "  File \"/tmp/ipykernel_137271/2471261490.py\", line 3, in <module>\n",
      "ResourceWarning: unclosed file <_io.BufferedReader name='_outputs/Qfactor/Nmodes2/CDC.pkl'>\n"
     ]
    },
    {
     "data": {
      "text/plain": [
       "8.5072365"
      ]
     },
     "execution_count": 24,
     "metadata": {},
     "output_type": "execute_result"
    }
   ],
   "source": [
    "import numpy as np, matplotlib.pyplot as plt, pickle\n",
    "from src.TorchDSP.dataloader import get_k, get_k_batch\n",
    "res, code = pickle.load(open('_outputs/Qfactor/Nmodes2/CDC.pkl','rb'))\n",
    "P = np.arange(-8, 9)\n",
    "Rs = 40\n",
    "\n",
    "\n",
    "k = get_k_batch(3, Rs, code)\n",
    "Q = np.mean(res['BER from 10000th symb']['CDC']['Qsq'][k], axis=-1)\n",
    "\n",
    "Q[7]\n",
    "# Q = np.mean(Q, axis=1)\n",
    "# plt.plot(P, Q)\n",
    "# plt.ylim(6, 10)"
   ]
  }
 ],
 "metadata": {
  "kernelspec": {
   "display_name": "fiber2024",
   "language": "python",
   "name": "python3"
  },
  "language_info": {
   "codemirror_mode": {
    "name": "ipython",
    "version": 3
   },
   "file_extension": ".py",
   "mimetype": "text/x-python",
   "name": "python",
   "nbconvert_exporter": "python",
   "pygments_lexer": "ipython3",
   "version": "3.9.19"
  }
 },
 "nbformat": 4,
 "nbformat_minor": 2
}
