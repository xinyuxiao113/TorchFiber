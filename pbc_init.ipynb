{
 "cells": [
  {
   "cell_type": "code",
   "execution_count": 11,
   "metadata": {},
   "outputs": [],
   "source": [
    "import pickle \n",
    "with open('data/t0.pkl', 'rb') as file:\n",
    "    a = pickle.load(file)\n",
    "\n",
    "with open('data/train_data_afterCDCDSP.pkl', 'rb') as file:\n",
    "    a = pickle.load(file)"
   ]
  },
  {
   "cell_type": "code",
   "execution_count": 52,
   "metadata": {},
   "outputs": [
    {
     "data": {
      "text/plain": [
       "TorchSignal(val: tensor with torch.Size([5, 1, 900]), cpu, t:TorchTime(start=50, stop=-50, sps=2))"
      ]
     },
     "execution_count": 52,
     "metadata": {},
     "output_type": "execute_result"
    }
   ],
   "source": [
    "import torch, torch.nn as nn\n",
    "from src.TorchDSP.layers import ComplexConv1d\n",
    "from src.TorchDSP.core import TorchSignal, TorchTime\n",
    "from typing import Union\n",
    "\n",
    "B = 5\n",
    "L = 1000\n",
    "M = 1\n",
    "\n",
    "\n",
    "class pbcBlock(nn.Module):\n",
    "\n",
    "    def __init__(self, Nmodes=1, xpm_size=101, fwm_heads=16):\n",
    "        super().__init__()\n",
    "        self.Nmodes = Nmodes\n",
    "        self.xpm_size = xpm_size\n",
    "        self.fwm_size = xpm_size\n",
    "        self.fwm_heads = fwm_heads\n",
    "        self.overlaps = self.xpm_size\n",
    "        self.xpm_conv = nn.Conv1d(self.Nmodes, self.Nmodes, self.xpm_size)      # real convolution\n",
    "        self.fwm_conv_m = ComplexConv1d(1, self.fwm_heads, self.fwm_size)   # complex convolution\n",
    "        self.fwm_conv_n = ComplexConv1d(1, self.fwm_heads, self.fwm_size)   # complex convolution\n",
    "        self.fwm_conv_k = ComplexConv1d(1, self.fwm_heads, self.fwm_size)   # complex convolution\n",
    "        \n",
    "    def forward(self, signal: TorchSignal, task_info: Union[torch.Tensor,None] = None) -> TorchSignal:\n",
    "        P = torch.tensor(1) if task_info == None else 10**(task_info[:,0]/10)/signal.val.shape[-1]   # [batch] or ()\n",
    "        P = P.to(signal.val.device)\n",
    "        x = signal.val  # x [B, M, L]\n",
    "        phi = self.xpm_conv(torch.abs(x)**2)      # [B, M, L - xpm_size + 1]\n",
    "        x_ = x.view(-1, x.shape[-1]).unsqueeze(1) # [B*M, 1, L]\n",
    "        Am = self.fwm_conv_m(x_).view(x.shape[0], x.shape[1], self.fwm_heads, -1)       # [B, M, heads, L - fwm_size + 1]\n",
    "        An = self.fwm_conv_n(x_).view(x.shape[0], x.shape[1], self.fwm_heads, -1)       # [B, M, heads, L - fwm_size + 1]\n",
    "        Ak = self.fwm_conv_k(x_).view(x.shape[0], x.shape[1], self.fwm_heads, -1)       # [B, M, heads, L - fwm_size + 1]\n",
    "        S = torch.sum(Am*Ak.conj(), dim=1)                                              # [B, heads, L - fwm_size + 1]\n",
    "        E = x[:,:, self.xpm_size//2:-(self.xpm_size//2)]*torch.exp(1j*phi) + torch.sum(An*S.unsqueeze(1), dim=2)  # [B, M, L - xpm_size + 1]\n",
    "        return  TorchSignal(val=E, t=TorchTime(signal.t.start + (self.xpm_size//2), signal.t.stop - (self.xpm_size//2), signal.t.sps))\n",
    "\n",
    "\n",
    "x = torch.rand(B, M, L) + 1j*torch.rand(B, M, L)\n",
    "E = TorchSignal(val=x)\n",
    "\n",
    "pbc = pbcBlock(Nmodes=M)\n",
    "pbc(E)"
   ]
  },
  {
   "cell_type": "code",
   "execution_count": 53,
   "metadata": {},
   "outputs": [
    {
     "data": {
      "text/plain": [
       "torch.Size([5, 1, 1000])"
      ]
     },
     "execution_count": 53,
     "metadata": {},
     "output_type": "execute_result"
    }
   ],
   "source": [
    "x.shape"
   ]
  },
  {
   "cell_type": "code",
   "execution_count": 55,
   "metadata": {},
   "outputs": [
    {
     "data": {
      "text/plain": [
       "torch.Size([5, 1000, 1])"
      ]
     },
     "execution_count": 55,
     "metadata": {},
     "output_type": "execute_result"
    }
   ],
   "source": [
    "x.transpose(1,2).shape"
   ]
  }
 ],
 "metadata": {
  "kernelspec": {
   "display_name": "Python 3",
   "language": "python",
   "name": "python3"
  },
  "language_info": {
   "codemirror_mode": {
    "name": "ipython",
    "version": 3
   },
   "file_extension": ".py",
   "mimetype": "text/x-python",
   "name": "python",
   "nbconvert_exporter": "python",
   "pygments_lexer": "ipython3",
   "version": "3.9.18"
  }
 },
 "nbformat": 4,
 "nbformat_minor": 2
}
