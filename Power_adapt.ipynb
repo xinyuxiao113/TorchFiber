{
 "cells": [
  {
   "cell_type": "code",
   "execution_count": 34,
   "metadata": {},
   "outputs": [],
   "source": [
    "import pickle , matplotlib.pyplot as plt, torch, numpy as np, argparse, time, os\n",
    "from src.TorchDSP.pbc_new import NonlienarFeatures, FoPBC\n",
    "from src.TorchDSP.dataloader import  get_signals\n",
    "from src.TorchSimulation.receiver import  BER\n",
    "\n",
    "\n",
    "class Model(object):\n",
    "    def __init__(self, Nmodes, rho, L, index_type):\n",
    "        self.Nmodes = Nmodes\n",
    "        self.rho = rho\n",
    "        self.L = L\n",
    "        self.index_type = index_type\n",
    "        self.features = NonlienarFeatures(Nmodes=self.Nmodes, rho=self.rho, L = self.L, index_type=self.index_type)\n",
    "        self.C = torch.zeros(len(self.features.index), dtype=torch.complex64)\n",
    "\n",
    "    def scatter(self, figsize=(10,10),dpi=400, s=3):\n",
    "        x,y = zip(*self.features.index)\n",
    "        values = np.log10(np.abs(self.C) + 1e-8)\n",
    "        plt.figure(figsize=figsize, dpi=dpi)\n",
    "        FoPBC(rho=self.rho, L=self.L, Nmodes=self.Nmodes, index_type=self.index_type).scatter_C(x,y,values, s=s)\n",
    "        return \n",
    "\n",
    "    def scale(self, train_p, test_p):\n",
    "        return 10 ** (test_p / 10) / 10 ** (train_p / 10)\n",
    "    \n",
    "    def fit(self, train_signal, train_truth, train_z, truncation=[0,-1], lamb_l2=0.1):\n",
    "        s,e = truncation\n",
    "\n",
    "        E = train_signal.val\n",
    "        X_ = torch.squeeze(self.features(E, E, E))\n",
    "        Y_ = torch.squeeze(train_signal.val - train_truth.val)\n",
    "        X = X_[s:e]\n",
    "        Y = Y_[s:e]\n",
    "        A = (X.T.conj() @ X).real/X.shape[0] + lamb_l2 * torch.eye(X.shape[1])               # A.eig: 4e5 ~ 1e8\n",
    "        b = (X.T.conj()) @ Y / X.shape[0]\n",
    "        self.C = torch.linalg.solve(A, b.real) + 1j*torch.linalg.solve(A, b.imag)\n",
    "        print('Model fit complete!')\n",
    "        return \n",
    "    \n",
    "    def predict(self, test_signal, train_p, test_p, xi=1):\n",
    "        C = self.C * self.scale(train_p, test_p)\n",
    "        E = test_signal.val\n",
    "        X = torch.squeeze(self.features(E, E, E))\n",
    "        return test_signal.val[0,:,0] - (torch.squeeze(self.features(test_signal.val, test_signal.val, test_signal.val)) @ C ) * self.scale(train_p, test_p)\n",
    "\n",
    "    def test(self, test_signal, truth_signal, train_p, test_p, xi=1, BER_discard=1000):\n",
    "        Yhat_test = self.predict(test_signal, train_p, test_p, xi=xi)\n",
    "        return BER(Yhat_test[BER_discard:,None], truth_signal.val[0,BER_discard:])\n",
    "\n",
    "model = Model(Nmodes=1, rho=1,L=400, index_type='reduce-2')"
   ]
  },
  {
   "cell_type": "code",
   "execution_count": 35,
   "metadata": {},
   "outputs": [],
   "source": [
    "train_path = \"data/train_data_afterCDCDSP.pkl\"\n",
    "test_path = \"data/test_data_afterCDCDSP.pkl\"\n",
    "train_p = -2\n",
    "test_p = -5\n",
    "train_signal, train_truth, train_z = get_signals(train_path, Nch=1, Rs=20, Pch=[train_p],  device='cpu')\n",
    "test_signal, test_truth, test_z = get_signals(test_path, Nch=1, Rs=20, Pch=[test_p], device='cpu')"
   ]
  },
  {
   "cell_type": "code",
   "execution_count": 36,
   "metadata": {},
   "outputs": [
    {
     "name": "stdout",
     "output_type": "stream",
     "text": [
      "Model fit complete!\n"
     ]
    }
   ],
   "source": [
    "model.fit(train_signal, train_truth, train_z, truncation=[0,-1], lamb_l2=0.01)"
   ]
  },
  {
   "cell_type": "code",
   "execution_count": 14,
   "metadata": {},
   "outputs": [],
   "source": [
    "# model.scatter()"
   ]
  },
  {
   "cell_type": "markdown",
   "metadata": {},
   "source": [
    "# test"
   ]
  },
  {
   "cell_type": "code",
   "execution_count": 37,
   "metadata": {},
   "outputs": [
    {
     "name": "stdout",
     "output_type": "stream",
     "text": [
      "CDC(trainset): \n",
      "{'BER': array([0.01369007], dtype=float32), 'SER': array([0.05331], dtype=float32), 'Qsq': array([6.872328], dtype=float32), 'SNR': array([13.884222], dtype=float32)}\n",
      "PBC, trainset\n"
     ]
    },
    {
     "data": {
      "text/plain": [
       "{'BER': array([0.00073139], dtype=float32),\n",
       " 'SER': array([0.00292555], dtype=float32),\n",
       " 'Qsq': array([10.05392], dtype=float32),\n",
       " 'SNR': array([17.982264], dtype=float32)}"
      ]
     },
     "execution_count": 37,
     "metadata": {},
     "output_type": "execute_result"
    }
   ],
   "source": [
    "BER_discard = 20000\n",
    "print('CDC(trainset): ')\n",
    "print(BER(train_signal.val[0,BER_discard:,:], train_truth.val[0,BER_discard:]))\n",
    "\n",
    "print('PBC, trainset')\n",
    "model.test(train_signal, train_truth, train_p, train_p, xi=1, BER_discard=20000)"
   ]
  },
  {
   "cell_type": "code",
   "execution_count": 38,
   "metadata": {},
   "outputs": [
    {
     "name": "stdout",
     "output_type": "stream",
     "text": [
      "CDC(testset): \n",
      "{'BER': array([0.00110646], dtype=float32), 'SER': array([0.00442583], dtype=float32), 'Qsq': array([9.714603], dtype=float32), 'SNR': array([16.916393], dtype=float32)}\n",
      "PBC, testset\n"
     ]
    },
    {
     "data": {
      "text/plain": [
       "{'BER': array([0.00019066], dtype=float32),\n",
       " 'SER': array([0.00076264], dtype=float32),\n",
       " 'Qsq': array([11.011133], dtype=float32),\n",
       " 'SNR': array([18.062475], dtype=float32)}"
      ]
     },
     "execution_count": 38,
     "metadata": {},
     "output_type": "execute_result"
    }
   ],
   "source": [
    "print('CDC(testset): ')\n",
    "print(BER(test_signal.val[0,BER_discard:,:], test_truth.val[0,BER_discard:]))\n",
    "\n",
    "print('PBC, testset')\n",
    "model.test(test_signal, test_truth, train_p, test_p, xi=1, BER_discard=20000)"
   ]
  },
  {
   "cell_type": "code",
   "execution_count": 163,
   "metadata": {},
   "outputs": [
    {
     "name": "stdout",
     "output_type": "stream",
     "text": [
      "CDC(testset): \n",
      "{'BER': array([0.00110647], dtype=float32), 'SER': array([0.00442589], dtype=float32), 'Qsq': array([9.714592], dtype=float32), 'SNR': array([16.916296], dtype=float32)}\n",
      "PBC(testset): \n",
      "{'BER': array([0.00010315], dtype=float32), 'SER': array([0.00041258], dtype=float32), 'Qsq': array([11.390252], dtype=float32), 'SNR': array([18.36456], dtype=float32)}\n"
     ]
    }
   ],
   "source": [
    "print('CDC(testset): ')\n",
    "print(BER(test_signal.val[0,BER_discard:,:], test_truth.val[0,BER_discard:]))\n",
    "\n",
    "print('PBC(testset): ')\n",
    "print(BER(Yhat_test[BER_discard:,None], test_truth.val[0,BER_discard:]))"
   ]
  },
  {
   "cell_type": "code",
   "execution_count": 136,
   "metadata": {},
   "outputs": [],
   "source": [
    "Qs = []\n",
    "xis = np.linspace(0.9, 0.93, 10)\n",
    "\n",
    "X_test = torch.squeeze(model(test_signal.val, test_signal.val, test_signal.val))\n",
    "for xi in xis:\n",
    "    Yhat_test = test_signal.val[0,:,0] - (X_test @ C ) * scale(train_p, test_p) * xi\n",
    "    Qs.append(BER(Yhat_test[BER_discard:,None], test_truth.val[0,BER_discard:])['Qsq'])"
   ]
  },
  {
   "cell_type": "code",
   "execution_count": 164,
   "metadata": {},
   "outputs": [],
   "source": [
    "Qs = []\n",
    "xis = np.linspace(0.9, 1.1, 10)\n",
    "\n",
    "X_train = torch.squeeze(model(train_signal.val, train_signal.val, train_signal.val))\n",
    "for xi in xis:\n",
    "    Yhat_train = train_signal.val[0,:,0] - (X_train @ C ) * scale(train_p, test_p) * xi\n",
    "    Qs.append(BER(Yhat_train[BER_discard:,None], train_truth.val[0,BER_discard:])['Qsq'])"
   ]
  },
  {
   "cell_type": "code",
   "execution_count": 165,
   "metadata": {},
   "outputs": [
    {
     "data": {
      "text/plain": [
       "[array([11.427137], dtype=float32),\n",
       " array([11.427137], dtype=float32),\n",
       " array([11.427137], dtype=float32),\n",
       " array([11.427137], dtype=float32),\n",
       " array([11.427137], dtype=float32),\n",
       " array([11.427137], dtype=float32),\n",
       " array([11.466162], dtype=float32),\n",
       " array([11.446366], dtype=float32),\n",
       " array([11.427137], dtype=float32),\n",
       " array([11.408444], dtype=float32)]"
      ]
     },
     "execution_count": 165,
     "metadata": {},
     "output_type": "execute_result"
    }
   ],
   "source": [
    "Qs"
   ]
  },
  {
   "cell_type": "code",
   "execution_count": 166,
   "metadata": {},
   "outputs": [
    {
     "data": {
      "text/plain": [
       "[<matplotlib.lines.Line2D at 0x7f8044c78cd0>]"
      ]
     },
     "execution_count": 166,
     "metadata": {},
     "output_type": "execute_result"
    },
    {
     "data": {
      "image/png": "[encoded data removed]",
      "text/plain": [
       "<Figure size 640x480 with 1 Axes>"
      ]
     },
     "metadata": {},
     "output_type": "display_data"
    }
   ],
   "source": [
    "plt.plot(xis, Qs)"
   ]
  }
 ],
 "metadata": {
  "kernelspec": {
   "display_name": "fiber",
   "language": "python",
   "name": "python3"
  },
  "language_info": {
   "codemirror_mode": {
    "name": "ipython",
    "version": 3
   },
   "file_extension": ".py",
   "mimetype": "text/x-python",
   "name": "python",
   "nbconvert_exporter": "python",
   "pygments_lexer": "ipython3",
   "version": "3.9.19"
  }
 },
 "nbformat": 4,
 "nbformat_minor": 2
}
