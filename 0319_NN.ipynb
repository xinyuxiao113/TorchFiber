{
 "cells": [
  {
   "cell_type": "code",
   "execution_count": 1,
   "metadata": {},
   "outputs": [],
   "source": [
    "import torch\n",
    "from src.TorchDSP.dataloader import  get_signals, opticDataset\n",
    "from src.TorchDSP.nneq import eqBiLSTM, eqMLP, eqCNNBiLSTM, eqID\n",
    "path = 'data/lab/test_2_0_4_1.pkl'"
   ]
  },
  {
   "cell_type": "code",
   "execution_count": 13,
   "metadata": {},
   "outputs": [],
   "source": [
    "\n",
    "Memory = 101\n",
    "trainset = opticDataset(Nch=7, Rs=36, M=Memory, path=path, idx=(100000, 1100000), power_fix=False)\n",
    "testset = opticDataset(Nch=7, Rs=36, M=Memory, path=path, idx=(1100000, 1200000), power_fix=False)\n",
    "\n",
    "# construct dataloader\n",
    "from torch.utils.data import DataLoader\n",
    "train_loader = DataLoader(trainset, batch_size=5000, shuffle=True)\n",
    "test_loader = DataLoader(testset, batch_size=5000, shuffle=False)\n",
    "# for y,x,z in train_loader:\n",
    "#     print(y.shape, x.shape, z.shape)\n",
    "#     break"
   ]
  },
  {
   "cell_type": "code",
   "execution_count": 10,
   "metadata": {},
   "outputs": [
    {
     "name": "stdout",
     "output_type": "stream",
     "text": [
      "Number of net parameters:  160920\n"
     ]
    }
   ],
   "source": [
    "net = eqMLP(M=Memory)\n",
    "# net = eqCNNBiLSTM(M=201, channels=10, kernel_size=11, hidden_size=20, res_net=True)\n",
    "print('Number of net parameters: ', sum(p.numel() for p in net.parameters() if p.requires_grad))"
   ]
  },
  {
   "cell_type": "code",
   "execution_count": 11,
   "metadata": {},
   "outputs": [],
   "source": [
    "import torch, numpy as np\n",
    "import scipy.constants as const, scipy.special as special\n",
    "from src.TorchSimulation.receiver import  BER\n",
    "\n",
    "def MSE(predict, truth):\n",
    "    return torch.mean(torch.abs(predict - truth)**2)  # predict, truth: [B, Nmodes]\n",
    "\n",
    "def SNR(predict, truth):\n",
    "    return 10 * torch.log10(torch.mean(torch.abs(truth)**2) / torch.mean(torch.abs(predict - truth)**2))\n",
    "\n",
    "def Qsq(ber):\n",
    "    return 20 * np.log10(np.sqrt(2) * np.maximum(special.erfcinv(2 * ber), 0.))\n",
    "\n",
    "def test_model(dataloader, model, loss_fn, device):\n",
    "    model = model.to(device)\n",
    "    model.eval()\n",
    "    mse = 0 \n",
    "    ber = 0\n",
    "    power = 0\n",
    "\n",
    "    N = len(dataloader)\n",
    "    with torch.no_grad():\n",
    "        for x, y, z in dataloader:\n",
    "            x, y, z = x.to(device), y.to(device), z.to(device)\n",
    "            y_pred = model(x)\n",
    "            mse += loss_fn(y_pred, y).item()\n",
    "            power += MSE(0, y).item()\n",
    "            ber += BER(y, y_pred)['BER']\n",
    "            \n",
    "    return {'loss_fn': mse/N, 'BER': np.mean(ber/N), 'SNR': 10 * np.log10(power / mse), 'Qsq': Qsq(np.mean(ber/N)), 'BER_XY':ber/N, 'Qsq_XY': Qsq(ber/N)}"
   ]
  },
  {
   "cell_type": "code",
   "execution_count": 14,
   "metadata": {},
   "outputs": [
    {
     "data": {
      "text/plain": [
       "{'loss_fn': 0.03156240377575159,\n",
       " 'BER': 0.005119719,\n",
       " 'SNR': 15.002040793148376,\n",
       " 'Qsq': 8.190671790013035,\n",
       " 'BER_XY': array([0.00365347, 0.00658597], dtype=float32),\n",
       " 'Qsq_XY': array([8.570866 , 7.8858333], dtype=float32)}"
      ]
     },
     "execution_count": 14,
     "metadata": {},
     "output_type": "execute_result"
    }
   ],
   "source": [
    "test_model(test_loader, eqID(M=Memory), loss_fn=MSE, device='cuda:0')"
   ]
  },
  {
   "cell_type": "code",
   "execution_count": 15,
   "metadata": {},
   "outputs": [
    {
     "name": "stdout",
     "output_type": "stream",
     "text": [
      "Epoch: 0, Loss: 0.03149\n",
      "{'loss_fn': 0.030497416295111178, 'BER': 0.005237934, 'SNR': 15.15111102754222, 'Qsq': 8.16382496005648, 'BER_XY': array([0.00379668, 0.00667918], dtype=float32), 'Qsq_XY': array([8.529039 , 7.8682384], dtype=float32)}\n",
      "Epoch: 1, Loss: 0.03021\n",
      "{'loss_fn': 0.030299969669431447, 'BER': 0.005131224, 'SNR': 15.17931956977259, 'Qsq': 8.18803854048072, 'BER_XY': array([0.00361122, 0.00665122], dtype=float32), 'Qsq_XY': array([8.583445, 7.873497], dtype=float32)}\n",
      "Epoch: 2, Loss: 0.03010\n",
      "{'loss_fn': 0.030168524663895368, 'BER': 0.0049586985, 'SNR': 15.198200784237644, 'Qsq': 8.228003519192175, 'BER_XY': array([0.00353127, 0.00638612], dtype=float32), 'Qsq_XY': array([8.607567, 7.924187], dtype=float32)}\n",
      "Epoch: 3, Loss: 0.02992\n",
      "{'loss_fn': 0.0300045314244926, 'BER': 0.00492625, 'SNR': 15.221873018924384, 'Qsq': 8.235637268516172, 'BER_XY': array([0.00343117, 0.00642133], dtype=float32), 'Qsq_XY': array([8.638371, 7.917367], dtype=float32)}\n",
      "Epoch: 4, Loss: 0.02965\n",
      "{'loss_fn': 0.029788368847221136, 'BER': 0.0048249997, 'SNR': 15.253274279964629, 'Qsq': 8.259704488208312, 'BER_XY': array([0.00330347, 0.00634653], dtype=float32), 'Qsq_XY': array([8.6787  , 7.931891], dtype=float32)}\n",
      "Epoch: 5, Loss: 0.02932\n",
      "{'loss_fn': 0.029633357748389245, 'BER': 0.0046859696, 'SNR': 15.275932866788573, 'Qsq': 8.293384227186769, 'BER_XY': array([0.00321821, 0.00615372], dtype=float32), 'Qsq_XY': array([8.706304, 7.969927], dtype=float32)}\n",
      "Epoch: 6, Loss: 0.02909\n",
      "{'loss_fn': 0.02951230350881815, 'BER': 0.004634821, 'SNR': 15.293710421574417, 'Qsq': 8.305965948192348, 'BER_XY': array([0.00315577, 0.00611388], dtype=float32), 'Qsq_XY': array([8.726885 , 7.9778967], dtype=float32)}\n",
      "Epoch: 7, Loss: 0.02893\n",
      "{'loss_fn': 0.029544788785278796, 'BER': 0.004659974, 'SNR': 15.288932611768741, 'Qsq': 8.299765573716687, 'BER_XY': array([0.00315321, 0.00616673], dtype=float32), 'Qsq_XY': array([8.727734 , 7.9673314], dtype=float32)}\n",
      "Epoch: 8, Loss: 0.02889\n",
      "{'loss_fn': 0.029689156170934438, 'BER': 0.004599872, 'SNR': 15.267762965496228, 'Qsq': 8.314623623017678, 'BER_XY': array([0.00316066, 0.00603908], dtype=float32), 'Qsq_XY': array([8.72526 , 7.992964], dtype=float32)}\n",
      "Epoch: 9, Loss: 0.02896\n",
      "{'loss_fn': 0.02974460329860449, 'BER': 0.004683699, 'SNR': 15.259659695978872, 'Qsq': 8.293940527959098, 'BER_XY': array([0.00318066, 0.00618673], dtype=float32), 'Qsq_XY': array([8.718641 , 7.9633512], dtype=float32)}\n",
      "Epoch: 10, Loss: 0.02883\n",
      "{'loss_fn': 0.02968031456694007, 'BER': 0.0047049997, 'SNR': 15.269056512434274, 'Qsq': 8.2887297627808, 'BER_XY': array([0.00321327, 0.00619673], dtype=float32), 'Qsq_XY': array([8.707923 , 7.9613657], dtype=float32)}\n",
      "Epoch: 11, Loss: 0.02869\n",
      "{'loss_fn': 0.02958963718265295, 'BER': 0.004543367, 'SNR': 15.28234510714097, 'Qsq': 8.328727843313672, 'BER_XY': array([0.00307306, 0.00601367], dtype=float32), 'Qsq_XY': array([8.754639, 7.998114], dtype=float32)}\n",
      "Epoch: 12, Loss: 0.02867\n",
      "{'loss_fn': 0.029675789549946784, 'BER': 0.00464148, 'SNR': 15.269718681875394, 'Qsq': 8.30432199807431, 'BER_XY': array([0.00335388, 0.00592908], dtype=float32), 'Qsq_XY': array([8.662639, 8.015377], dtype=float32)}\n",
      "Epoch: 13, Loss: 0.02852\n",
      "{'loss_fn': 0.029639935679733755, 'BER': 0.004612066, 'SNR': 15.274968938809625, 'Qsq': 8.311597252696552, 'BER_XY': array([0.00315556, 0.00606857], dtype=float32), 'Qsq_XY': array([8.726953, 7.987006], dtype=float32)}\n",
      "Epoch: 14, Loss: 0.02845\n",
      "{'loss_fn': 0.029682114906609058, 'BER': 0.0046798973, 'SNR': 15.268793087372002, 'Qsq': 8.294872414295224, 'BER_XY': array([0.00322816, 0.00613163], dtype=float32), 'Qsq_XY': array([8.7030525, 7.9743404], dtype=float32)}\n",
      "Epoch: 15, Loss: 0.02845\n",
      "{'loss_fn': 0.029448121972382068, 'BER': 0.004468699, 'SNR': 15.303165474822897, 'Qsq': 8.34757202573006, 'BER_XY': array([0.00302061, 0.00591679], dtype=float32), 'Qsq_XY': array([8.772541, 8.017902], dtype=float32)}\n",
      "Epoch: 16, Loss: 0.02843\n",
      "{'loss_fn': 0.02991490690037608, 'BER': 0.0046837498, 'SNR': 15.234864951553462, 'Qsq': 8.29392808995597, 'BER_XY': array([0.00328082, 0.00608668], dtype=float32), 'Qsq_XY': array([8.685981 , 7.9833584], dtype=float32)}\n",
      "Epoch: 17, Loss: 0.02838\n",
      "{'loss_fn': 0.02959633432328701, 'BER': 0.004539541, 'SNR': 15.281362262334907, 'Qsq': 8.329687634252267, 'BER_XY': array([0.00304561, 0.00603347], dtype=float32), 'Qsq_XY': array([8.763978 , 7.9940996], dtype=float32)}\n",
      "Epoch: 18, Loss: 0.02824\n",
      "{'loss_fn': 0.029586447309702633, 'BER': 0.004554592, 'SNR': 15.282813317984427, 'Qsq': 8.325915334572544, 'BER_XY': array([0.0030702 , 0.00603898], dtype=float32), 'Qsq_XY': array([8.755607, 7.992985], dtype=float32)}\n",
      "Epoch: 19, Loss: 0.02828\n",
      "{'loss_fn': 0.029785403795540333, 'BER': 0.0046386477, 'SNR': 15.253706586171695, 'Qsq': 8.305020974853441, 'BER_XY': array([0.00322087, 0.00605643], dtype=float32), 'Qsq_XY': array([8.705436, 7.989457], dtype=float32)}\n",
      "Epoch: 20, Loss: 0.02841\n",
      "{'loss_fn': 0.029692249093204736, 'BER': 0.004594694, 'SNR': 15.267310554823162, 'Qsq': 8.315910631266632, 'BER_XY': array([0.00322112, 0.00596827], dtype=float32), 'Qsq_XY': array([8.705352, 8.007359], dtype=float32)}\n",
      "Epoch: 21, Loss: 0.02838\n",
      "{'loss_fn': 0.02961025731638074, 'BER': 0.0045272447, 'SNR': 15.279319692743858, 'Qsq': 8.332776554310824, 'BER_XY': array([0.00312796, 0.00592653], dtype=float32), 'Qsq_XY': array([8.736152, 8.015902], dtype=float32)}\n",
      "Epoch: 22, Loss: 0.02823\n",
      "{'loss_fn': 0.0299013108946383, 'BER': 0.004734898, 'SNR': 15.23683922227374, 'Qsq': 8.281445952941022, 'BER_XY': array([0.00347347, 0.00599633], dtype=float32), 'Qsq_XY': array([8.625271, 8.001638], dtype=float32)}\n",
      "Epoch: 23, Loss: 0.02806\n",
      "{'loss_fn': 0.029425385780632494, 'BER': 0.0044647194, 'SNR': 15.306519853892219, 'Qsq': 8.348583072873438, 'BER_XY': array([0.00302311, 0.00590633], dtype=float32), 'Qsq_XY': array([8.771683, 8.020053], dtype=float32)}\n",
      "Epoch: 24, Loss: 0.02811\n",
      "{'loss_fn': 0.02967888405546546, 'BER': 0.004554643, 'SNR': 15.269265835758798, 'Qsq': 8.325902629257456, 'BER_XY': array([0.00323821, 0.00587107], dtype=float32), 'Qsq_XY': array([8.699777, 8.027323], dtype=float32)}\n",
      "Epoch: 25, Loss: 0.02818\n",
      "{'loss_fn': 0.029715663567185403, 'BER': 0.004558495, 'SNR': 15.263887180084803, 'Qsq': 8.324938738458272, 'BER_XY': array([0.00305281, 0.00606418], dtype=float32), 'Qsq_XY': array([8.761523, 7.987891], dtype=float32)}\n",
      "Epoch: 26, Loss: 0.02827\n",
      "{'loss_fn': 0.029797080904245377, 'BER': 0.0046675, 'SNR': 15.25200430605845, 'Qsq': 8.29791532103418, 'BER_XY': array([0.00319332, 0.00614168], dtype=float32), 'Qsq_XY': array([8.714472, 7.972331], dtype=float32)}\n",
      "Epoch: 27, Loss: 0.02843\n",
      "{'loss_fn': 0.030092542711645364, 'BER': 0.0047049234, 'SNR': 15.209152651342157, 'Qsq': 8.288748412619164, 'BER_XY': array([0.00340827, 0.00600158], dtype=float32), 'Qsq_XY': array([8.645519, 8.00057 ], dtype=float32)}\n"
     ]
    },
    {
     "ename": "KeyboardInterrupt",
     "evalue": "",
     "output_type": "error",
     "traceback": [
      "\u001b[0;31m---------------------------------------------------------------------------\u001b[0m",
      "\u001b[0;31mKeyboardInterrupt\u001b[0m                         Traceback (most recent call last)",
      "Cell \u001b[0;32mIn[15], line 16\u001b[0m\n\u001b[1;32m     14\u001b[0m train_loss \u001b[38;5;241m=\u001b[39m \u001b[38;5;241m0\u001b[39m\n\u001b[1;32m     15\u001b[0m N \u001b[38;5;241m=\u001b[39m \u001b[38;5;28mlen\u001b[39m(train_loader)\n\u001b[0;32m---> 16\u001b[0m \u001b[38;5;28;01mfor\u001b[39;00m x,y,z \u001b[38;5;129;01min\u001b[39;00m train_loader:\n\u001b[1;32m     17\u001b[0m     x, y \u001b[38;5;241m=\u001b[39m x\u001b[38;5;241m.\u001b[39mto(device), y\u001b[38;5;241m.\u001b[39mto(device)\n\u001b[1;32m     18\u001b[0m     optimizer\u001b[38;5;241m.\u001b[39mzero_grad()\n",
      "File \u001b[0;32m~/.conda/envs/fiber/lib/python3.9/site-packages/torch/utils/data/dataloader.py:634\u001b[0m, in \u001b[0;36m_BaseDataLoaderIter.__next__\u001b[0;34m(self)\u001b[0m\n\u001b[1;32m    631\u001b[0m \u001b[38;5;28;01mif\u001b[39;00m \u001b[38;5;28mself\u001b[39m\u001b[38;5;241m.\u001b[39m_sampler_iter \u001b[38;5;129;01mis\u001b[39;00m \u001b[38;5;28;01mNone\u001b[39;00m:\n\u001b[1;32m    632\u001b[0m     \u001b[38;5;66;03m# TODO(https://github.com/pytorch/pytorch/issues/76750)\u001b[39;00m\n\u001b[1;32m    633\u001b[0m     \u001b[38;5;28mself\u001b[39m\u001b[38;5;241m.\u001b[39m_reset()  \u001b[38;5;66;03m# type: ignore[call-arg]\u001b[39;00m\n\u001b[0;32m--> 634\u001b[0m data \u001b[38;5;241m=\u001b[39m \u001b[38;5;28;43mself\u001b[39;49m\u001b[38;5;241;43m.\u001b[39;49m\u001b[43m_next_data\u001b[49m\u001b[43m(\u001b[49m\u001b[43m)\u001b[49m\n\u001b[1;32m    635\u001b[0m \u001b[38;5;28mself\u001b[39m\u001b[38;5;241m.\u001b[39m_num_yielded \u001b[38;5;241m+\u001b[39m\u001b[38;5;241m=\u001b[39m \u001b[38;5;241m1\u001b[39m\n\u001b[1;32m    636\u001b[0m \u001b[38;5;28;01mif\u001b[39;00m \u001b[38;5;28mself\u001b[39m\u001b[38;5;241m.\u001b[39m_dataset_kind \u001b[38;5;241m==\u001b[39m _DatasetKind\u001b[38;5;241m.\u001b[39mIterable \u001b[38;5;129;01mand\u001b[39;00m \\\n\u001b[1;32m    637\u001b[0m         \u001b[38;5;28mself\u001b[39m\u001b[38;5;241m.\u001b[39m_IterableDataset_len_called \u001b[38;5;129;01mis\u001b[39;00m \u001b[38;5;129;01mnot\u001b[39;00m \u001b[38;5;28;01mNone\u001b[39;00m \u001b[38;5;129;01mand\u001b[39;00m \\\n\u001b[1;32m    638\u001b[0m         \u001b[38;5;28mself\u001b[39m\u001b[38;5;241m.\u001b[39m_num_yielded \u001b[38;5;241m>\u001b[39m \u001b[38;5;28mself\u001b[39m\u001b[38;5;241m.\u001b[39m_IterableDataset_len_called:\n",
      "File \u001b[0;32m~/.conda/envs/fiber/lib/python3.9/site-packages/torch/utils/data/dataloader.py:678\u001b[0m, in \u001b[0;36m_SingleProcessDataLoaderIter._next_data\u001b[0;34m(self)\u001b[0m\n\u001b[1;32m    676\u001b[0m \u001b[38;5;28;01mdef\u001b[39;00m \u001b[38;5;21m_next_data\u001b[39m(\u001b[38;5;28mself\u001b[39m):\n\u001b[1;32m    677\u001b[0m     index \u001b[38;5;241m=\u001b[39m \u001b[38;5;28mself\u001b[39m\u001b[38;5;241m.\u001b[39m_next_index()  \u001b[38;5;66;03m# may raise StopIteration\u001b[39;00m\n\u001b[0;32m--> 678\u001b[0m     data \u001b[38;5;241m=\u001b[39m \u001b[38;5;28;43mself\u001b[39;49m\u001b[38;5;241;43m.\u001b[39;49m\u001b[43m_dataset_fetcher\u001b[49m\u001b[38;5;241;43m.\u001b[39;49m\u001b[43mfetch\u001b[49m\u001b[43m(\u001b[49m\u001b[43mindex\u001b[49m\u001b[43m)\u001b[49m  \u001b[38;5;66;03m# may raise StopIteration\u001b[39;00m\n\u001b[1;32m    679\u001b[0m     \u001b[38;5;28;01mif\u001b[39;00m \u001b[38;5;28mself\u001b[39m\u001b[38;5;241m.\u001b[39m_pin_memory:\n\u001b[1;32m    680\u001b[0m         data \u001b[38;5;241m=\u001b[39m _utils\u001b[38;5;241m.\u001b[39mpin_memory\u001b[38;5;241m.\u001b[39mpin_memory(data, \u001b[38;5;28mself\u001b[39m\u001b[38;5;241m.\u001b[39m_pin_memory_device)\n",
      "\u001b[0;31mKeyboardInterrupt\u001b[0m: "
     ]
    }
   ],
   "source": [
    "import torch \n",
    "\n",
    "\n",
    "\n",
    "def train_model(net, train_loader, test_loader, optimizer, device, epochs, device):\n",
    "    Memory = 101\n",
    "    trainset = opticDataset(Nch=7, Rs=36, M=Memory, path=path, idx=(100000, 1100000), power_fix=False)\n",
    "    testset = opticDataset(Nch=7, Rs=36, M=Memory, path=path, idx=(1100000, 1200000), power_fix=False)\n",
    "\n",
    "    # construct dataloader\n",
    "    from torch.utils.data import DataLoader\n",
    "    train_loader = DataLoader(trainset, batch_size=5000, shuffle=True)\n",
    "    test_loader = DataLoader(testset, batch_size=5000, shuffle=False)\n",
    "\n",
    "    optimizer = torch.optim.Adam(net.parameters(), lr=1e-2)\n",
    "\n",
    "    # device = torch.device('cuda' if torch.cuda.is_available() else 'cpu')\n",
    "    device = 'cuda:0'\n",
    "    net.to(device)\n",
    "\n",
    "\n",
    "    for epoch in range(epochs):\n",
    "        net.train()\n",
    "        train_loss = 0\n",
    "        N = len(train_loader)\n",
    "        for x,y,z in train_loader:\n",
    "            x, y = x.to(device), y.to(device)\n",
    "            optimizer.zero_grad()\n",
    "            predict = net(x)\n",
    "            loss = MSE(predict, y)\n",
    "            loss.backward()\n",
    "            optimizer.step()\n",
    "            train_loss += loss.item()\n",
    "        print('Epoch: %d, Loss: %.5f' % (epoch, train_loss/N))\n",
    "        if epoch % 1 == 0:\n",
    "            metric = test_model(test_loader, net, loss_fn=MSE, device=device)\n",
    "            print(metric)"
   ]
  },
  {
   "cell_type": "code",
   "execution_count": 15,
   "metadata": {},
   "outputs": [],
   "source": [
    "device = 'cpu'\n",
    "for x,y,z in train_loader:\n",
    "    x, y = x.to(device), y.to(device)"
   ]
  }
 ],
 "metadata": {
  "kernelspec": {
   "display_name": "fiber",
   "language": "python",
   "name": "python3"
  },
  "language_info": {
   "codemirror_mode": {
    "name": "ipython",
    "version": 3
   },
   "file_extension": ".py",
   "mimetype": "text/x-python",
   "name": "python",
   "nbconvert_exporter": "python",
   "pygments_lexer": "ipython3",
   "version": "3.9.12"
  }
 },
 "nbformat": 4,
 "nbformat_minor": 2
}
