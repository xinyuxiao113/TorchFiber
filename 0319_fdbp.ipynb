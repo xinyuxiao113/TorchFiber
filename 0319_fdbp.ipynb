{
 "cells": [
  {
   "cell_type": "code",
   "execution_count": 1,
   "metadata": {},
   "outputs": [
    {
     "name": "stderr",
     "output_type": "stream",
     "text": [
      "/home/xiaoxinyu/.conda/envs/fiber/lib/python3.9/site-packages/flax/core/frozen_dict.py:169: FutureWarning: jax.tree_util.register_keypaths is deprecated, and will be removed in a future release. Please use `register_pytree_with_keys()` instead.\n",
      "  jax.tree_util.register_keypaths(\n",
      "2024-03-19 02:12:26.254008: E external/org_tensorflow/tensorflow/compiler/xla/stream_executor/cuda/cuda_driver.cc:266] failed call to cuInit: CUDA_ERROR_NO_DEVICE: no CUDA-capable device is detected\n",
      "No GPU/TPU found, falling back to CPU. (Set TF_CPP_MIN_LOG_LEVEL=0 and rerun for more info.)\n",
      "WARNING:root:Data would be auto-cached in default temporary location: /home/xiaoxinyu/TorchFiber/data/Remi, set labptptm2.config.cache_storage to other locations to suppress this warning\n"
     ]
    }
   ],
   "source": [
    "import numpy as np\n",
    "from tqdm.auto import tqdm\n",
    "from functools import partial\n",
    "import matplotlib.pyplot as plt\n",
    "\n",
    "from commplax import util, comm\n",
    "from gdbp import gdbp_base as gb, data as gdat, aux"
   ]
  },
  {
   "cell_type": "code",
   "execution_count": 2,
   "metadata": {},
   "outputs": [
    {
     "data": {
      "application/vnd.jupyter.widget-view+json": {
       "model_id": "cd0b54ca4c4b4a25a35c9acdd25091c0",
       "version_major": 2,
       "version_minor": 0
      },
      "text/plain": [
       "loading data:   0%|          | 0/1 [00:00<?, ?it/s]"
      ]
     },
     "metadata": {},
     "output_type": "display_data"
    },
    {
     "data": {
      "application/vnd.jupyter.widget-view+json": {
       "model_id": "22c388285eb04c22ba69702b2c5c3467",
       "version_major": 2,
       "version_minor": 0
      },
      "text/plain": [
       "loading data:   0%|          | 0/1 [00:00<?, ?it/s]"
      ]
     },
     "metadata": {},
     "output_type": "display_data"
    }
   ],
   "source": [
    "ds_train, ds_test = gdat.load(1, 0, 4, 1)[0], gdat.load(2, 0, 4, 1)[0]"
   ]
  },
  {
   "cell_type": "code",
   "execution_count": 78,
   "metadata": {},
   "outputs": [],
   "source": [
    "# Note: see `https://github.com/remifan/gdbp_study/blob/master/gdbp/gdbp_base.py` for model definition\n",
    "\n",
    "def init_models(data: gdat.Input, **kwargs):\n",
    "  ''' make CDC and DBP's derivatives\n",
    "      (all methods has trainable R-filter)\n",
    "      cdc:  static D-filter, no NLC\n",
    "      dbp:  static D-filter, scalar manually optimized NLC factor\n",
    "      fdbp: static D-filter, static N-filter scaled by manually optimized NLC factor\n",
    "      edbp: static D-filter, tap-by-tap optimizable/trainable N-filter\n",
    "      gdbp: tap-by-tap optimizable/trainable D-filter and N-filter\n",
    "  '''\n",
    "  \n",
    "  mode  = kwargs.get('mode', 'train')\n",
    "  steps = kwargs.get('steps', 3)\n",
    "  dtaps = kwargs.get('dtaps', 261)\n",
    "  ntaps = kwargs.get('ntaps', 41)\n",
    "  rtaps = kwargs.get('rtaps', 61)\n",
    "  xi    = kwargs.get('xi', 1.1) # optimal xi for FDBP\n",
    "  \n",
    "  fdbp_init = partial(gb.fdbp_init, data.a, steps=steps)\n",
    "  model_init = partial(gb.model_init, data)\n",
    "  \n",
    "  comm_conf = {'mode': mode, 'steps': steps, 'dtaps': dtaps, 'rtaps': rtaps} # common configurations\n",
    "  #     init. func.| define model structure parameters and some initial values    | define static modules    | identifier\n",
    "  cdc  = model_init({**comm_conf, 'ntaps': 1,     'init_fn': fdbp_init(xi=0.0)},  [('fdbp_0',)],             name='CDC')\n",
    "  dbp  = model_init({**comm_conf, 'ntaps': 1,     'init_fn': fdbp_init(xi=0.15)}, [('fdbp_0',)],             name='DBP')\n",
    "  fdbp = model_init({**comm_conf, 'ntaps': ntaps, 'init_fn': fdbp_init(xi=xi)},   [('fdbp_0',)],             name='FDBP')\n",
    "  edbp = model_init({**comm_conf, 'ntaps': ntaps, 'init_fn': fdbp_init(xi=xi)},   [('fdbp_0', r'DConv_\\d')], name='EDBP')\n",
    "  gdbp = model_init({**comm_conf, 'ntaps': ntaps, 'init_fn': fdbp_init(xi=xi)},   [],                        name='GDBP')\n",
    "  \n",
    "  # return cdc, dbp, fdbp, edbp, gdbp\n",
    "  return (cdc,)\n",
    "\n",
    "\n",
    "models_train = init_models(ds_train)\n",
    "models_test = init_models(ds_test, mode='test')"
   ]
  },
  {
   "cell_type": "code",
   "execution_count": 79,
   "metadata": {},
   "outputs": [
    {
     "data": {
      "application/vnd.jupyter.widget-view+json": {
       "model_id": "7cede99fe635491b9f3fd63da645c971",
       "version_major": 2,
       "version_minor": 0
      },
      "text/plain": [
       "sweep models:   0%|          | 0/1 [00:00<?, ?it/s]"
      ]
     },
     "metadata": {},
     "output_type": "display_data"
    },
    {
     "data": {
      "application/vnd.jupyter.widget-view+json": {
       "model_id": "e46bf5b5417e44ecb709f19e706d65f5",
       "version_major": 2,
       "version_minor": 0
      },
      "text/plain": [
       "training:   0%|          | 0/2000 [00:00<?, ?it/s]"
      ]
     },
     "metadata": {},
     "output_type": "display_data"
    }
   ],
   "source": [
    "results = []\n",
    "sigs = []\n",
    "\n",
    "for model_train, model_test in tqdm(zip(models_train, models_test), total=1, desc='sweep models'):\n",
    "  # use trained params of the 3rd last batch, as tailing samples are corrupted by CD\n",
    "  params_queue = [None] * 3\n",
    "  \n",
    "  for _, p, _ in gb.train(model_train, ds_train, n_iter=2000):\n",
    "    params_queue.append(p)\n",
    "    params = params_queue.pop(0)\n",
    "\n",
    "  metric,z = gb.test(model_test, params, ds_test, metric_fn=comm.qamqot_local)\n",
    "  results.append(metric)\n",
    "  sigs.append(z)"
   ]
  },
  {
   "cell_type": "code",
   "execution_count": 106,
   "metadata": {},
   "outputs": [],
   "source": [
    "import jax\n",
    "import pickle, torch\n",
    "signal = jax.device_get(sigs[0].val)\n",
    "truth = ds_test.x[sigs[0].t.start:sigs[0].t.stop]\n",
    "pickle.dump((torch.tensor(signal[None,...]), torch.tensor(truth[None,...]), torch.tensor([[0, 0.0, 72e9, 7]])), open('data/lab/test_2_0_4_1.pkl', 'wb'))"
   ]
  },
  {
   "cell_type": "code",
   "execution_count": 116,
   "metadata": {},
   "outputs": [
    {
     "data": {
      "text/plain": [
       "<matplotlib.legend.Legend at 0x7f129c55d910>"
      ]
     },
     "execution_count": 116,
     "metadata": {},
     "output_type": "execute_result"
    },
    {
     "data": {
      "image/png": "[encoded data removed]",
      "text/plain": [
       "<Figure size 640x480 with 1 Axes>"
      ]
     },
     "metadata": {},
     "output_type": "display_data"
    }
   ],
   "source": [
    "import matplotlib.pyplot as plt\n",
    "\n",
    "labels = ['CDC', 'DBP', 'FDBP', 'EDBP', 'GDBP']\n",
    "colors = plt.cm.RdPu(np.linspace(0.2, 0.8, len(labels)))\n",
    "\n",
    "fig = plt.figure(dpi=100)\n",
    "for r, l, c in zip(results, labels, colors):\n",
    "  plt.plot(r['QSq'][:, 2], label=l, color=c) # averaged SNR of Pol. X and Pol. Y\n",
    "plt.title('local QSq every 1e4 symbols')\n",
    "plt.xlabel('symbol index')\n",
    "plt.ylabel('SNR (dB)')\n",
    "plt.ylim([8, 9])\n",
    "plt.legend(loc='lower right')"
   ]
  },
  {
   "cell_type": "code",
   "execution_count": 66,
   "metadata": {},
   "outputs": [
    {
     "data": {
      "text/plain": [
       "8.208386002609142"
      ]
     },
     "execution_count": 66,
     "metadata": {},
     "output_type": "execute_result"
    }
   ],
   "source": [
    "s = 10000\n",
    "np.mean(results[0]['QSq'][s:,2])"
   ]
  },
  {
   "cell_type": "code",
   "execution_count": 60,
   "metadata": {},
   "outputs": [
    {
     "data": {
      "text/plain": [
       "8.351736015179613"
      ]
     },
     "execution_count": 60,
     "metadata": {},
     "output_type": "execute_result"
    }
   ],
   "source": [
    "np.mean(results[1]['QSq'][s:,2])"
   ]
  },
  {
   "cell_type": "code",
   "execution_count": 61,
   "metadata": {},
   "outputs": [
    {
     "data": {
      "text/plain": [
       "8.633906955473917"
      ]
     },
     "execution_count": 61,
     "metadata": {},
     "output_type": "execute_result"
    }
   ],
   "source": [
    "np.mean(results[2]['QSq'][s:,2])"
   ]
  },
  {
   "cell_type": "code",
   "execution_count": 62,
   "metadata": {},
   "outputs": [
    {
     "data": {
      "text/plain": [
       "8.701216058264674"
      ]
     },
     "execution_count": 62,
     "metadata": {},
     "output_type": "execute_result"
    }
   ],
   "source": [
    "np.mean(results[3]['QSq'][s:,2])"
   ]
  },
  {
   "cell_type": "code",
   "execution_count": 63,
   "metadata": {},
   "outputs": [
    {
     "data": {
      "text/plain": [
       "8.716584877947842"
      ]
     },
     "execution_count": 63,
     "metadata": {},
     "output_type": "execute_result"
    }
   ],
   "source": [
    "np.mean(results[4]['QSq'][s:,2])"
   ]
  }
 ],
 "metadata": {
  "kernelspec": {
   "display_name": "fiber",
   "language": "python",
   "name": "python3"
  },
  "language_info": {
   "codemirror_mode": {
    "name": "ipython",
    "version": 3
   },
   "file_extension": ".py",
   "mimetype": "text/x-python",
   "name": "python",
   "nbconvert_exporter": "python",
   "pygments_lexer": "ipython3",
   "version": "3.9.12"
  }
 },
 "nbformat": 4,
 "nbformat_minor": 2
}
