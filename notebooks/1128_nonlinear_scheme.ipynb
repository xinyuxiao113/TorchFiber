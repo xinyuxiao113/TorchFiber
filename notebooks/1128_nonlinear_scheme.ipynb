{
 "cells": [
  {
   "cell_type": "markdown",
   "metadata": {},
   "source": [
    "# import modules"
   ]
  },
  {
   "cell_type": "code",
   "execution_count": 1,
   "metadata": {},
   "outputs": [
    {
     "name": "stderr",
     "output_type": "stream",
     "text": [
      "/home/xiaoxinyu/.conda/envs/fiber/lib/python3.9/site-packages/flax/core/frozen_dict.py:169: FutureWarning: jax.tree_util.register_keypaths is deprecated, and will be removed in a future release. Please use `register_pytree_with_keys()` instead.\n",
      "  jax.tree_util.register_keypaths(\n"
     ]
    },
    {
     "name": "stdout",
     "output_type": "stream",
     "text": [
      "gamma = 0.1\n"
     ]
    },
    {
     "name": "stderr",
     "output_type": "stream",
     "text": [
      "2024-01-11 11:04:09.704074: E external/org_tensorflow/tensorflow/compiler/xla/stream_executor/cuda/cuda_driver.cc:266] failed call to cuInit: CUDA_ERROR_NO_DEVICE: no CUDA-capable device is detected\n",
      "No GPU/TPU found, falling back to CPU. (Set TF_CPP_MIN_LOG_LEVEL=0 and rerun for more info.)\n"
     ]
    },
    {
     "name": "stdout",
     "output_type": "stream",
     "text": [
      "Sample rate fa: 5.76e+11, Cut off frequency fc: 2.5e+10, fa > 2fc: True\n",
      " simpleWDMTx complete, time cost(s):2.2672529220581055\n",
      "(batch, Nfft, Nmodes), (batch, Nsymb, Nch, Nmodes)\n",
      "(1, 24000, 1) (1, 1500, 1, 1)\n",
      "\n",
      "Each fiber span length Ls = 80 km.\n",
      "Dispersion length Ld = 40 km.\n",
      "Nonlinear length Lnl = 400 km.\n",
      "nonlinear coeff gamma = 0.1 /W/km .\n"
     ]
    }
   ],
   "source": [
    "import sys\n",
    "sys.path.append('/home/xiaoxinyu/TorchFiber')\n",
    "\n",
    "from src.NewSimulation.config import *\n",
    "tx_data = simpleWDMTx(False, jax.random.PRNGKey(0), batch=1, M=16, Nbits=6000, sps=16, Nch=1, Nmodes=1, Rs=36e9, freqspace=50e9, Pch_dBm=0)\n",
    "Pch = 10**(tx_data['config']['Pch_dBm']/10)*1e-3\n",
    "tx_data['signal'] = tx_data['signal'] / jnp.sqrt(Pch)         # power normalization\n",
    "print('(batch, Nfft, Nmodes), (batch, Nsymb, Nch, Nmodes)')\n",
    "print(tx_data['signal'].shape, tx_data['SymbTx'].shape)\n",
    "\n",
    "\n",
    "print(f'\\nEach fiber span length Ls = {Ls} km.')\n",
    "print(f'Dispersion length Ld = {Ld} km.')\n",
    "print(f'Nonlinear length Lnl = {Lnl} km.')\n",
    "print(f'nonlinear coeff gamma = {gamma} /W/km .')"
   ]
  },
  {
   "cell_type": "markdown",
   "metadata": {},
   "source": [
    "# approximated X"
   ]
  },
  {
   "cell_type": "code",
   "execution_count": null,
   "metadata": {},
   "outputs": [],
   "source": []
  },
  {
   "cell_type": "markdown",
   "metadata": {},
   "source": [
    "# solve NLSE"
   ]
  },
  {
   "cell_type": "code",
   "execution_count": 33,
   "metadata": {},
   "outputs": [
    {
     "name": "stdout",
     "output_type": "stream",
     "text": [
      "z_max = 16.0 Ld\n",
      "dispersion only: 0.6813180398706223\n",
      "SSFM: 0.073338486\n"
     ]
    }
   ],
   "source": [
    "# initial condition\n",
    "u0 = tx_data['signal'][0,:,0]\n",
    "\n",
    "# parameters\n",
    "spans = 8\n",
    "z_max = spans*Ls/Ld\n",
    "dt = 1/tx_data['config']['sps']\n",
    "print(f'z_max = {z_max} Ld')\n",
    "\n",
    "# solve with full sps = 16\n",
    "uc = Dispersion(u0, dt, z_max)                                          # dispersion solution\n",
    "us = SSFM(u0, dt, dz=1, L=z_max, gamma=gamma, order=1, path=False)      # large step solution\n",
    "ur = SSFM(u0, dt, dz=1/2**8, L=z_max, gamma=gamma, order=2, path=False) # real solution"
   ]
  },
  {
   "cell_type": "code",
   "execution_count": 45,
   "metadata": {},
   "outputs": [
    {
     "name": "stdout",
     "output_type": "stream",
     "text": [
      "dispersion only: 0.6813180398706223\n",
      "SSFM large dz: 0.06737972\n",
      "SSFM small dz: 0.058934163\n"
     ]
    }
   ],
   "source": [
    "# solve with downsampled sps = 2 and reconstruct to sps=16.\n",
    "rate = 16\n",
    "u0_downsamp = u0[::rate]    # sps=16 --> sps=2\n",
    "uc_downsamp = SSFM(u0_downsamp, dt*rate, dz=z_max,  L=z_max, gamma=0, order=1, path=False)       # dispersion solution\n",
    "us_downsamp = SSFM(u0_downsamp, dt*rate, dz=1,    L=z_max, gamma=gamma, order=1,path=False)     # NLSE solution\n",
    "ur_downsamp = SSFM(u0_downsamp, dt*rate, dz=1/2**6, L=z_max, gamma=gamma, order=2,path=False)  # real solution\n",
    "\n",
    "uc1 = reconstruct(uc_downsamp, rate)   # sps=2 --> sps=16  dispersion solution\n",
    "us1 = reconstruct(us_downsamp, rate)   # sps=2 --> sps=16  large step solution\n",
    "ur1 = reconstruct(ur_downsamp, rate)   # sps=2 --> sps=16  real solution (small step)\n",
    "\n",
    "def MSE(u, ur):\n",
    "    return np.mean(np.abs(ur - u)**2)\n",
    "\n",
    "print('dispersion only:', MSE(uc, ur))\n",
    "print('SSFM large dz:', MSE(us1, ur))\n",
    "print('SSFM small dz:', MSE(ur1, ur))"
   ]
  },
  {
   "cell_type": "code",
   "execution_count": 46,
   "metadata": {},
   "outputs": [],
   "source": [
    "import pickle\n",
    "\n",
    "def NonlinearCouple(a, X, S):\n",
    "    a_delta = np.zeros_like(a)\n",
    "    for (m,n,k) in S:\n",
    "        a_delta += X[m, n, k]*np.roll(a, m)*np.roll(a, n)*np.roll(a, k).conj()\n",
    "    return -(1j)*gamma*a_delta\n",
    "\n",
    "def MSE(u, ur):\n",
    "    return np.mean(np.abs(ur - u)**2)"
   ]
  },
  {
   "cell_type": "code",
   "execution_count": 6,
   "metadata": {},
   "outputs": [],
   "source": [
    "import pickle\n",
    "X,z = pickle.load(open('../data/Xcoeff_161_dz1_zmax16.pkl', 'rb'))\n",
    "Xint = np.sum(X*f(z)[:, None, None, None]*z[1], axis=0)\n",
    "\n",
    "l = X.shape[-1]//2\n",
    "S1 = [(m,n,k) for m in range(-l,l+1) for n in range(-l,l+1) for k in range(-l,l+1)]\n",
    "S2 = [(m,n,k) for m in range(-l,l+1) for n in range(-l,l+1) for k in range(-l,l+1) if k == m+n]\n",
    "S3 = [(m,n,k) for m in range(-l,l+1) for n in range(-l,l+1) for k in range(-l,l+1) if k == m+n and m*n==0]\n",
    "S4  = [(m,n,k) for m in range(-l,l+1) for n in range(-l,l+1) for k in range(-l,l+1) if np.abs(Xint[m,n,k]) > 1e-2]\n",
    "S5  = [(m,n,k) for (m,n,k) in S3 if np.abs(Xint[m,n,k]) > 2e-2]\n",
    "S6  = [(m,n,k) for (m,n,k) in S2 if np.abs(Xint[m,n,k]) > 2e-2]"
   ]
  },
  {
   "cell_type": "code",
   "execution_count": 51,
   "metadata": {},
   "outputs": [],
   "source": [
    "S5  = [(m,n,k) for (m,n,k) in S3 if np.abs(Xint[m,n,k]) > 5e-3]\n",
    "S6  = [(m,n,k) for (m,n,k) in S2 if np.abs(Xint[m,n,k]) > 5e-3]"
   ]
  },
  {
   "cell_type": "code",
   "execution_count": 52,
   "metadata": {},
   "outputs": [
    {
     "name": "stdout",
     "output_type": "stream",
     "text": [
      "S1 length: 4173281\n",
      "S2 length: 19441\n",
      "S3 length: 321\n",
      "S4 length: 1321\n",
      "S5 length: 321\n",
      "S6 length: 4119\n"
     ]
    }
   ],
   "source": [
    "print(f'S1 length: {len(S1)}')\n",
    "print(f'S2 length: {len(S2)}')\n",
    "print(f'S3 length: {len(S3)}')\n",
    "print(f'S4 length: {len(S4)}')\n",
    "print(f'S5 length: {len(S5)}')\n",
    "print(f'S6 length: {len(S6)}')"
   ]
  },
  {
   "cell_type": "markdown",
   "metadata": {},
   "source": [
    "## Euler"
   ]
  },
  {
   "cell_type": "code",
   "execution_count": 53,
   "metadata": {},
   "outputs": [
    {
     "name": "stdout",
     "output_type": "stream",
     "text": [
      "step size: 16\n",
      "dispersion only: 0.6813180398706223\n",
      "RP1: 0.18431747\n",
      "SSFM: 0.06737972\n",
      "step size: 8\n",
      "dispersion only: 0.6813180398706223\n",
      "RP1: 0.12110625\n",
      "SSFM: 0.06737972\n",
      "step size: 4\n",
      "dispersion only: 0.6813180398706223\n",
      "RP1: 0.102668196\n",
      "SSFM: 0.06737972\n",
      "step size: 2\n",
      "dispersion only: 0.6813180398706223\n",
      "RP1: 0.10064613\n",
      "SSFM: 0.06737972\n",
      "step size: 1\n",
      "dispersion only: 0.6813180398706223\n",
      "RP1: 0.101006\n",
      "SSFM: 0.06737972\n"
     ]
    }
   ],
   "source": [
    "er_list1 = []\n",
    "\n",
    "for step_size in [16, 8, 4, 2, 1]:\n",
    "    u1 = u0_downsamp\n",
    "    for i in range(0, len(z)-1, step_size):\n",
    "        phi = NonlinearCouple(u1, sum([X[j]*f(z[j]) for j in range(i, i+step_size)]), S6)*z[1]            \n",
    "        u1 = u1 + phi\n",
    "\n",
    "    u1 = Dispersion(u1, dt*rate, z_max)\n",
    "    u1_rec = reconstruct(u1, rate)\n",
    "\n",
    "    er_list1.append(MSE(u1_rec, ur))\n",
    "    print('step size:', step_size)\n",
    "    print('dispersion only:', MSE(uc, ur))\n",
    "    print('RP1:', MSE(u1_rec, ur))\n",
    "    print('SSFM:', MSE(us1, ur))"
   ]
  },
  {
   "cell_type": "code",
   "execution_count": 54,
   "metadata": {},
   "outputs": [
    {
     "name": "stdout",
     "output_type": "stream",
     "text": [
      "step size: 16\n",
      "dispersion only: 0.6813180398706223\n",
      "RP1: 0.17948495\n",
      "SSFM: 0.06737972\n",
      "step size: 8\n",
      "dispersion only: 0.6813180398706223\n",
      "RP1: 0.12036448\n",
      "SSFM: 0.06737972\n",
      "step size: 4\n",
      "dispersion only: 0.6813180398706223\n",
      "RP1: 0.10406065\n",
      "SSFM: 0.06737972\n",
      "step size: 2\n",
      "dispersion only: 0.6813180398706223\n",
      "RP1: 0.1019584\n",
      "SSFM: 0.06737972\n",
      "step size: 1\n",
      "dispersion only: 0.6813180398706223\n",
      "RP1: 0.10210498\n",
      "SSFM: 0.06737972\n"
     ]
    }
   ],
   "source": [
    "er_list2 = []\n",
    "\n",
    "for step_size in [16, 8, 4, 2, 1]:\n",
    "    u1 = u0_downsamp\n",
    "    for i in range(0, len(z)-1, step_size):\n",
    "        phi = NonlinearCouple(u1, sum([X[j]*f(z[j]) for j in range(i, i+step_size)]), S6)*z[1]            \n",
    "        u1 = u1 * np.exp(phi.imag*(1j) / u1) + phi.real\n",
    "\n",
    "    u1 = Dispersion(u1, dt*rate, z_max)\n",
    "    u1_rec = reconstruct(u1, rate)\n",
    "\n",
    "    er_list2.append(MSE(u1_rec, ur))\n",
    "    print('step size:', step_size)\n",
    "    print('dispersion only:', MSE(uc, ur))\n",
    "    print('RP1:', MSE(u1_rec, ur))\n",
    "    print('SSFM:', MSE(us1, ur))"
   ]
  },
  {
   "cell_type": "code",
   "execution_count": 55,
   "metadata": {},
   "outputs": [
    {
     "name": "stdout",
     "output_type": "stream",
     "text": [
      "step size: 16\n",
      "dispersion only: 0.6813180398706223\n",
      "RP1: 0.104782514\n",
      "SSFM: 0.06737972\n",
      "step size: 8\n",
      "dispersion only: 0.6813180398706223\n",
      "RP1: 0.104394265\n",
      "SSFM: 0.06737972\n",
      "step size: 4\n",
      "dispersion only: 0.6813180398706223\n",
      "RP1: 0.10419556\n",
      "SSFM: 0.06737972\n",
      "step size: 2\n",
      "dispersion only: 0.6813180398706223\n",
      "RP1: 0.10413214\n",
      "SSFM: 0.06737972\n",
      "step size: 1\n",
      "dispersion only: 0.6813180398706223\n",
      "RP1: 0.104127906\n",
      "SSFM: 0.06737972\n"
     ]
    }
   ],
   "source": [
    "er_list3 = []\n",
    "\n",
    "for step_size in [16, 8, 4, 2, 1]:\n",
    "    u1 = u0_downsamp\n",
    "    for i in range(0, len(z)-1, step_size):\n",
    "        phi = NonlinearCouple(u1, sum([X[j]*f(z[j]) for j in range(i, i+step_size)]), S6)*z[1]            \n",
    "        u1 = u1 * np.exp(phi / u1)\n",
    "\n",
    "    u1 = Dispersion(u1, dt*rate, z_max)\n",
    "    u1_rec = reconstruct(u1, rate)\n",
    "\n",
    "    er_list3.append(MSE(u1_rec, ur))\n",
    "    print('step size:', step_size)\n",
    "    print('dispersion only:', MSE(uc, ur))\n",
    "    print('RP1:', MSE(u1_rec, ur))\n",
    "    print('SSFM:', MSE(us1, ur))"
   ]
  },
  {
   "cell_type": "code",
   "execution_count": 56,
   "metadata": {},
   "outputs": [
    {
     "data": {
      "text/plain": [
       "<matplotlib.legend.Legend at 0x7faf176cf940>"
      ]
     },
     "execution_count": 56,
     "metadata": {},
     "output_type": "execute_result"
    },
    {
     "data": {
      "image/png": "[encoded data removed]",
      "text/plain": [
       "<Figure size 640x480 with 1 Axes>"
      ]
     },
     "metadata": {},
     "output_type": "display_data"
    }
   ],
   "source": [
    "plt.plot(er_list1, marker='o', linestyle='-', label='RP iteration -- form 1')\n",
    "plt.plot(er_list2, marker='o', linestyle='-', label='RP iteration -- form 2')\n",
    "plt.plot(er_list3, marker='o', linestyle='-', label='RP iteration -- form 3', color='g')\n",
    "plt.title('MSE of RP iteration solution')\n",
    "plt.legend()"
   ]
  },
  {
   "cell_type": "code",
   "execution_count": 14,
   "metadata": {},
   "outputs": [
    {
     "name": "stdout",
     "output_type": "stream",
     "text": [
      "dispersion only: 0.6813180398706223\n",
      "RP1: 0.10113662\n",
      "SSFM: 0.06737972\n"
     ]
    }
   ],
   "source": [
    "u1 = u0_downsamp\n",
    "step_size = 8\n",
    "for i in range(0, len(z)-1, step_size):\n",
    "    phi = NonlinearCouple(u1, sum([X[j]*f(z[j]) for j in range(i, i+step_size)]), S4)*z[1]            \n",
    "    u1 = u1*np.exp(phi / u1)\n",
    "\n",
    "u1 = Dispersion(u1, dt*rate, z_max)\n",
    "u1_rec = reconstruct(u1, rate)\n",
    "\n",
    "print('dispersion only:', MSE(uc, ur))\n",
    "print('RP1:', MSE(u1_rec, ur))\n",
    "print('SSFM:', MSE(us1, ur))"
   ]
  }
 ],
 "metadata": {
  "kernelspec": {
   "display_name": "fiber",
   "language": "python",
   "name": "python3"
  },
  "language_info": {
   "codemirror_mode": {
    "name": "ipython",
    "version": 3
   },
   "file_extension": ".py",
   "mimetype": "text/x-python",
   "name": "python",
   "nbconvert_exporter": "python",
   "pygments_lexer": "ipython3",
   "version": "3.9.12"
  }
 },
 "nbformat": 4,
 "nbformat_minor": 2
}
