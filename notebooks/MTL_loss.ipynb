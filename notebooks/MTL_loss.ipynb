{
 "cells": [
  {
   "cell_type": "code",
   "execution_count": 95,
   "metadata": {},
   "outputs": [],
   "source": [
    "import torch, torch.nn as nn\n",
    "torch.manual_seed(2333)\n",
    "\n",
    "p = 10\n",
    "mode = 3\n",
    "sigma = [0.2, 0.4, 1]\n",
    "ns = [100, 200, 300]\n",
    "x_data = [torch.rand(ns[i], p) for i in range(mode)]\n",
    "theta = torch.rand(p, 1)\n",
    "y_data = [x_data[i] @ theta + torch.randn(ns[i], 1)*sigma[i] for i in range(mode)]"
   ]
  },
  {
   "cell_type": "code",
   "execution_count": 96,
   "metadata": {},
   "outputs": [],
   "source": [
    "def AVELoss(y_predict, y_data):\n",
    "    L = [torch.mean(torch.abs(y_predict[i] - y_data[i])**2) for i in range(len(y_data))]\n",
    "    return torch.mean(torch.stack(L))\n",
    "\n",
    "\n",
    "def BALoss(y_predict, y_data):\n",
    "    L = [torch.sum(torch.abs(y_predict[i] - y_data[i])**2) for i in range(len(y_data))]\n",
    "    return torch.sum(torch.stack(L) / torch.tensor(sigma)**2)\n",
    "\n",
    "def MTLoss(y_predict, y_data, sigma_):\n",
    "    ns = torch.tensor([len(y_data[i]) for i in range(len(y_data))])\n",
    "    L = [torch.sum(torch.abs(y_predict[i] - y_data[i])**2) for i in range(len(y_data))]\n",
    "    return 0.5*torch.sum(torch.stack(L) / sigma_**2) + torch.sum(torch.log(sigma_) * ns)\n",
    "\n",
    "def LogLoss(y_predict, y_data):\n",
    "    ns = torch.tensor([len(y_data[i]) for i in range(len(y_data))])\n",
    "    L = [torch.mean(torch.abs(y_predict[i] - y_data[i])**2) for i in range(len(y_data))]\n",
    "    return torch.sum(torch.log(torch.stack(L)) * ns )\n"
   ]
  },
  {
   "cell_type": "code",
   "execution_count": 97,
   "metadata": {},
   "outputs": [
    {
     "name": "stdout",
     "output_type": "stream",
     "text": [
      "11.914078712463379\n",
      "0.4809129238128662\n",
      "0.42872869968414307\n",
      "0.4001791775226593\n",
      "0.3891858160495758\n",
      "0.38597574830055237\n",
      "0.3852325975894928\n",
      "0.385090708732605\n",
      "0.3850677013397217\n",
      "0.3850645124912262\n"
     ]
    },
    {
     "data": {
      "text/plain": [
       "tensor(0.2378, grad_fn=<LinalgVectorNormBackward0>)"
      ]
     },
     "execution_count": 97,
     "metadata": {},
     "output_type": "execute_result"
    }
   ],
   "source": [
    "net = nn.Linear(p, 1, bias=False)\n",
    "optimizer = torch.optim.Adam(net.parameters(), lr=1e-2)\n",
    "loss_func = AVELoss\n",
    "\n",
    "l_list = []\n",
    "\n",
    "for epoch in range(2000):\n",
    "    optimizer.zero_grad()\n",
    "    y_predict = [net(x) for x in x_data]\n",
    "    loss = loss_func(y_predict, y_data)\n",
    "    loss.backward()\n",
    "    optimizer.step()\n",
    "    if epoch % 200 == 0:\n",
    "        print(loss.item())\n",
    "    l_list.append(loss.item())\n",
    "\n",
    "torch.norm(net.weight.T - theta)\n"
   ]
  },
  {
   "cell_type": "code",
   "execution_count": 98,
   "metadata": {},
   "outputs": [
    {
     "name": "stdout",
     "output_type": "stream",
     "text": [
      "35190.3828125\n",
      "557.1519775390625\n",
      "557.14990234375\n",
      "557.14990234375\n",
      "557.14990234375\n",
      "557.14990234375\n",
      "557.14990234375\n",
      "557.14990234375\n",
      "557.14990234375\n",
      "557.14990234375\n"
     ]
    },
    {
     "data": {
      "text/plain": [
       "tensor(0.1529, grad_fn=<LinalgVectorNormBackward0>)"
      ]
     },
     "execution_count": 98,
     "metadata": {},
     "output_type": "execute_result"
    }
   ],
   "source": [
    "net = nn.Linear(p, 1, bias=False)\n",
    "optimizer = torch.optim.Adam(net.parameters(), lr=1e-1)\n",
    "loss_func = BALoss\n",
    "\n",
    "l_list = []\n",
    "\n",
    "for epoch in range(2000):\n",
    "    optimizer.zero_grad()\n",
    "    y_predict = [net(x) for x in x_data]\n",
    "    loss = loss_func(y_predict, y_data)\n",
    "    loss.backward()\n",
    "    optimizer.step()\n",
    "    if epoch % 200 == 0:\n",
    "        print(loss.item())\n",
    "    l_list.append(loss.item())\n",
    "\n",
    "torch.norm(net.weight.T - theta)\n"
   ]
  },
  {
   "cell_type": "code",
   "execution_count": 99,
   "metadata": {},
   "outputs": [
    {
     "name": "stdout",
     "output_type": "stream",
     "text": [
      "1226.7705078125\n",
      "-736.1932373046875\n",
      "-736.3411865234375\n",
      "-736.3411865234375\n",
      "-736.3412475585938\n",
      "-736.3411865234375\n",
      "-736.3412475585938\n",
      "-736.3411865234375\n",
      "-736.3412475585938\n",
      "-736.3411865234375\n"
     ]
    },
    {
     "data": {
      "text/plain": [
       "tensor(0.1607, grad_fn=<LinalgVectorNormBackward0>)"
      ]
     },
     "execution_count": 99,
     "metadata": {},
     "output_type": "execute_result"
    }
   ],
   "source": [
    "net = nn.Linear(p, 1, bias=False)\n",
    "optimizer = torch.optim.Adam(net.parameters(), lr=1e-2)\n",
    "loss_func = LogLoss\n",
    "\n",
    "l_list = []\n",
    "\n",
    "for epoch in range(2000):\n",
    "    optimizer.zero_grad()\n",
    "    y_predict = [net(x) for x in x_data]\n",
    "    loss = loss_func(y_predict, y_data)\n",
    "    loss.backward()\n",
    "    optimizer.step()\n",
    "    if epoch % 200 == 0:\n",
    "        print(loss.item())\n",
    "    l_list.append(loss.item())\n",
    "\n",
    "torch.norm(net.weight.T - theta)\n"
   ]
  },
  {
   "cell_type": "code",
   "execution_count": 100,
   "metadata": {},
   "outputs": [
    {
     "name": "stderr",
     "output_type": "stream",
     "text": [
      "/tmp/ipykernel_18055/3374745845.py:2: UserWarning: To copy construct from a tensor, it is recommended to use sourceTensor.clone().detach() or sourceTensor.clone().detach().requires_grad_(True), rather than torch.tensor(sourceTensor).\n",
      "  sigma_ = torch.tensor(torch.ones(len(sigma)), requires_grad=True)\n"
     ]
    },
    {
     "name": "stdout",
     "output_type": "stream",
     "text": [
      "2092.86279296875\n",
      "-7.1932373046875\n",
      "-68.16717529296875\n",
      "-68.17062377929688\n",
      "-68.170654296875\n",
      "-68.170654296875\n",
      "-68.170654296875\n",
      "-68.170654296875\n",
      "-68.17062377929688\n",
      "-68.17059326171875\n"
     ]
    },
    {
     "data": {
      "text/plain": [
       "tensor(0.1607, grad_fn=<LinalgVectorNormBackward0>)"
      ]
     },
     "execution_count": 100,
     "metadata": {},
     "output_type": "execute_result"
    }
   ],
   "source": [
    "net = nn.Linear(p, 1, bias=False)\n",
    "sigma_ = torch.tensor(torch.ones(len(sigma)), requires_grad=True)\n",
    "optimizer = torch.optim.Adam([{'params': net.parameters()}, {'params': [sigma_]}], lr=1e-2)\n",
    "loss_func = MTLoss\n",
    "\n",
    "l_list = []\n",
    "\n",
    "for epoch in range(2000):\n",
    "    optimizer.zero_grad()\n",
    "    y_predict = [net(x) for x in x_data]\n",
    "    loss = loss_func(y_predict, y_data, sigma_)\n",
    "    loss.backward()\n",
    "    optimizer.step()\n",
    "    if epoch % 200 == 0:\n",
    "        print(loss.item())\n",
    "    l_list.append(loss.item())\n",
    "\n",
    "torch.norm(net.weight.T - theta)\n"
   ]
  },
  {
   "cell_type": "code",
   "execution_count": 84,
   "metadata": {},
   "outputs": [
    {
     "data": {
      "text/plain": [
       "[<matplotlib.lines.Line2D at 0x7fa88030ed90>]"
      ]
     },
     "execution_count": 84,
     "metadata": {},
     "output_type": "execute_result"
    },
    {
     "data": {
      "image/png": "[encoded data removed]",
      "text/plain": [
       "<Figure size 640x480 with 1 Axes>"
      ]
     },
     "metadata": {},
     "output_type": "display_data"
    }
   ],
   "source": [
    "import matplotlib.pyplot as plt\n",
    "plt.plot(l_list)"
   ]
  }
 ],
 "metadata": {
  "kernelspec": {
   "display_name": "fiber",
   "language": "python",
   "name": "python3"
  },
  "language_info": {
   "codemirror_mode": {
    "name": "ipython",
    "version": 3
   },
   "file_extension": ".py",
   "mimetype": "text/x-python",
   "name": "python",
   "nbconvert_exporter": "python",
   "pygments_lexer": "ipython3",
   "version": "3.9.12"
  },
  "orig_nbformat": 4
 },
 "nbformat": 4,
 "nbformat_minor": 2
}
