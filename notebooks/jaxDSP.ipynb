{
 "cells": [
  {
   "cell_type": "code",
   "execution_count": 12,
   "metadata": {},
   "outputs": [],
   "source": [
    "import sys\n",
    "import os\n",
    "home = os.path.expanduser(\"~\")\n",
    "sys.path.append(f'{home}/TorchFiber')\n",
    "\n",
    "import jax, optax, pickle, jax.random as rd, jax.numpy as jnp, flax.linen as nn, numpy as np, matplotlib.pyplot as plt\n",
    "import sys \n",
    "from src.JaxSimulation.models import CDCBPS,CDCMIMO,DBPMIMO, DBPBPS, BER, piecewise_constant, DBP, mask_signal, mimoaf,downsamp, DBP_transform, wrap_signal, CDC_transform\n",
    "from src.JaxSimulation.initializers import gauss, near_zeros, zeros, delta\n",
    "import src.JaxSimulation.DataLoader as DL\n",
    "from src.JaxSimulation.utils import  get_dtaps\n",
    "import src.JaxSimulation.adaptive_filter as af\n",
    "from src.JaxSimulation.train import Model\n",
    "import matplotlib as mpl\n",
    "from flax.core import freeze, unfreeze,lift\n",
    "mpl.rcParams['axes.prop_cycle'] = mpl.cycler(color=['g',  'b', 'k', 'y', 'm', 'c']) # type: ignore"
   ]
  },
  {
   "cell_type": "code",
   "execution_count": 9,
   "metadata": {},
   "outputs": [
    {
     "ename": "FileNotFoundError",
     "evalue": "[Errno 2] No such file or directory: './data/train_data_few.pkl'",
     "output_type": "error",
     "traceback": [
      "\u001b[0;31m---------------------------------------------------------------------------\u001b[0m",
      "\u001b[0;31mFileNotFoundError\u001b[0m                         Traceback (most recent call last)",
      "Cell \u001b[0;32mIn[9], line 2\u001b[0m\n\u001b[1;32m      1\u001b[0m device \u001b[38;5;241m=\u001b[39m \u001b[38;5;124m'\u001b[39m\u001b[38;5;124mgpu\u001b[39m\u001b[38;5;124m'\u001b[39m\n\u001b[0;32m----> 2\u001b[0m train_data, train_info \u001b[38;5;241m=\u001b[39m pickle\u001b[38;5;241m.\u001b[39mload(\u001b[38;5;28;43mopen\u001b[39;49m\u001b[43m(\u001b[49m\u001b[38;5;124;43m'\u001b[39;49m\u001b[38;5;124;43m./data/train_data_few.pkl\u001b[39;49m\u001b[38;5;124;43m'\u001b[39;49m\u001b[43m,\u001b[49m\u001b[38;5;124;43m'\u001b[39;49m\u001b[38;5;124;43mrb\u001b[39;49m\u001b[38;5;124;43m'\u001b[39;49m\u001b[43m)\u001b[49m)\n\u001b[1;32m      5\u001b[0m step \u001b[38;5;241m=\u001b[39m \u001b[38;5;241m5\u001b[39m\n\u001b[1;32m      6\u001b[0m ntaps \u001b[38;5;241m=\u001b[39m \u001b[38;5;241m401\u001b[39m\n",
      "File \u001b[0;32m~/.conda/envs/fiber/lib/python3.9/site-packages/IPython/core/interactiveshell.py:310\u001b[0m, in \u001b[0;36m_modified_open\u001b[0;34m(file, *args, **kwargs)\u001b[0m\n\u001b[1;32m    303\u001b[0m \u001b[38;5;28;01mif\u001b[39;00m file \u001b[38;5;129;01min\u001b[39;00m {\u001b[38;5;241m0\u001b[39m, \u001b[38;5;241m1\u001b[39m, \u001b[38;5;241m2\u001b[39m}:\n\u001b[1;32m    304\u001b[0m     \u001b[38;5;28;01mraise\u001b[39;00m \u001b[38;5;167;01mValueError\u001b[39;00m(\n\u001b[1;32m    305\u001b[0m         \u001b[38;5;124mf\u001b[39m\u001b[38;5;124m\"\u001b[39m\u001b[38;5;124mIPython won\u001b[39m\u001b[38;5;124m'\u001b[39m\u001b[38;5;124mt let you open fd=\u001b[39m\u001b[38;5;132;01m{\u001b[39;00mfile\u001b[38;5;132;01m}\u001b[39;00m\u001b[38;5;124m by default \u001b[39m\u001b[38;5;124m\"\u001b[39m\n\u001b[1;32m    306\u001b[0m         \u001b[38;5;124m\"\u001b[39m\u001b[38;5;124mas it is likely to crash IPython. If you know what you are doing, \u001b[39m\u001b[38;5;124m\"\u001b[39m\n\u001b[1;32m    307\u001b[0m         \u001b[38;5;124m\"\u001b[39m\u001b[38;5;124myou can use builtins\u001b[39m\u001b[38;5;124m'\u001b[39m\u001b[38;5;124m open.\u001b[39m\u001b[38;5;124m\"\u001b[39m\n\u001b[1;32m    308\u001b[0m     )\n\u001b[0;32m--> 310\u001b[0m \u001b[38;5;28;01mreturn\u001b[39;00m \u001b[43mio_open\u001b[49m\u001b[43m(\u001b[49m\u001b[43mfile\u001b[49m\u001b[43m,\u001b[49m\u001b[43m \u001b[49m\u001b[38;5;241;43m*\u001b[39;49m\u001b[43margs\u001b[49m\u001b[43m,\u001b[49m\u001b[43m \u001b[49m\u001b[38;5;241;43m*\u001b[39;49m\u001b[38;5;241;43m*\u001b[39;49m\u001b[43mkwargs\u001b[49m\u001b[43m)\u001b[49m\n",
      "\u001b[0;31mFileNotFoundError\u001b[0m: [Errno 2] No such file or directory: './data/train_data_few.pkl'"
     ]
    }
   ],
   "source": [
    "device = 'gpu'\n",
    "train_data, train_info = pickle.load(open('./data/train_data_few.pkl','rb'))\n",
    "\n",
    "\n",
    "step = 5\n",
    "ntaps = 401\n",
    "dtaps = get_dtaps(step, train_data.a)\n",
    "struct_info = {'module': ('DBP','MIMOAF'), 'lead_symbols':2000}\n",
    "DBP_info = {'step':step, 'dtaps': dtaps,  'ntaps':ntaps, 'n_init':zeros, 'meta': 'scaler', 'batch_size':2000,\n",
    "            'linear_kernel_type':'physical', 'linear_share':True, 'nonlinear_share':True,'optic_params_trainable': False, \n",
    "            'L':2000e3, 'D':16.5, 'Fc':299792458/1550E-9, 'gamma':0.0016567}\n",
    "\n",
    "mimo_info = {'taps':32}\n",
    "\n",
    "private_info = {'Fs':2*160*1e9, 'Fi':299792458/1550E-9, 'sps':2, 'Nmodes':1}\n",
    "\n",
    "model_info = freeze({'struct_info':struct_info, 'DBP_info':DBP_info, 'mimo_info':mimo_info, 'private_info':private_info})\n",
    "\n",
    "a = Model()\n",
    "a.init(model_info=model_info,batch_dim=train_data.y.shape[0], update_state=True)\n",
    "a.update_data(train_data, train_info, 2000)\n",
    "a.update_optimizer(optax.experimental.split_real_and_imaginary(optax.adam(learning_rate=1e-4)), device=device)\n",
    "\n",
    "for i in range(20):\n",
    "    a.save(f'models/jax/model_MetaDBP_LMS_{i*100}')\n",
    "    a.train(100)\n",
    "a.save(f'models/jax/model_MetaDBP_LMS_2000')"
   ]
  },
  {
   "cell_type": "code",
   "execution_count": 3,
   "metadata": {},
   "outputs": [
    {
     "name": "stdout",
     "output_type": "stream",
     "text": [
      "load model complete. remember to update data before training.\n"
     ]
    }
   ],
   "source": [
    "a = Model.load(f'models/jax/model_MetaDBP_LMS_300')"
   ]
  },
  {
   "cell_type": "code",
   "execution_count": null,
   "metadata": {},
   "outputs": [],
   "source": [
    "plt.plot(a.TS.l_list)"
   ]
  },
  {
   "cell_type": "code",
   "execution_count": 1,
   "metadata": {},
   "outputs": [
    {
     "name": "stdout",
     "output_type": "stream",
     "text": [
      "torch.Size([4, 10000, 100])\n",
      "torch.Size([16, 10000, 100])\n",
      "tensor(0)\n"
     ]
    }
   ],
   "source": [
    "from src.TorchSimulation.transmitter import QAM\n",
    "from src.TorchSimulation.receiver import BER\n",
    "import torch, pickle\n",
    "\n",
    "mod = QAM(16)\n",
    "\n",
    "bits = torch.randint(0, 2,(16, 10000, 100))\n",
    "symbs = mod.modulate(bits, dim=0)\n",
    "print(symbs.shape)\n",
    "\n",
    "bits_ = mod.demodulate(symbs, dim=0)\n",
    "print(bits_.shape)\n",
    "\n",
    "print(torch.sum(torch.abs(bits - bits_)))"
   ]
  },
  {
   "cell_type": "code",
   "execution_count": 2,
   "metadata": {},
   "outputs": [],
   "source": [
    "y,x,t = pickle.load(open('res.pkl','rb'))"
   ]
  },
  {
   "cell_type": "code",
   "execution_count": 4,
   "metadata": {},
   "outputs": [],
   "source": [
    "res = BER(torch.tensor(y), torch.tensor(x))"
   ]
  }
 ],
 "metadata": {
  "kernelspec": {
   "display_name": "fiber",
   "language": "python",
   "name": "python3"
  },
  "language_info": {
   "codemirror_mode": {
    "name": "ipython",
    "version": 3
   },
   "file_extension": ".py",
   "mimetype": "text/x-python",
   "name": "python",
   "nbconvert_exporter": "python",
   "pygments_lexer": "ipython3",
   "version": "3.9.18"
  },
  "orig_nbformat": 4
 },
 "nbformat": 4,
 "nbformat_minor": 2
}
