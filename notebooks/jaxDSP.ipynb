{
 "cells": [
  {
   "cell_type": "code",
   "execution_count": 1,
   "metadata": {},
   "outputs": [
    {
     "name": "stderr",
     "output_type": "stream",
     "text": [
      "/home/xiaoxinyu/.conda/envs/fiber/lib/python3.9/site-packages/flax/core/frozen_dict.py:169: FutureWarning: jax.tree_util.register_keypaths is deprecated, and will be removed in a future release. Please use `register_pytree_with_keys()` instead.\n",
      "  jax.tree_util.register_keypaths(\n"
     ]
    }
   ],
   "source": [
    "import jax, optax, pickle, jax.random as rd, jax.numpy as jnp, flax.linen as nn, numpy as np, matplotlib.pyplot as plt\n",
    "import sys \n",
    "from src.JaxSimulation.models import CDCBPS,CDCMIMO,DBPMIMO, DBPBPS, BER, piecewise_constant, DBP, mask_signal, mimoaf,downsamp, DBP_transform, wrap_signal, CDC_transform\n",
    "from src.JaxSimulation.initializers import gauss, near_zeros, zeros, delta\n",
    "import src.JaxSimulation.DataLoader as DL\n",
    "from src.JaxSimulation.utils import  get_dtaps\n",
    "import src.JaxSimulation.adaptive_filter as af\n",
    "from src.JaxSimulation.train import Model\n",
    "import matplotlib as mpl\n",
    "from flax.core import freeze, unfreeze,lift\n",
    "mpl.rcParams['axes.prop_cycle'] = mpl.cycler(color=['g',  'b', 'k', 'y', 'm', 'c']) # type: ignore"
   ]
  },
  {
   "cell_type": "code",
   "execution_count": null,
   "metadata": {},
   "outputs": [],
   "source": [
    "device = 'gpu'\n",
    "train_data, train_info = pickle.load(open('./data/train_data_few.pkl','rb'))\n",
    "\n",
    "\n",
    "step = 5\n",
    "ntaps = 401\n",
    "dtaps = get_dtaps(step, train_data.a)\n",
    "struct_info = {'module': ('DBP','MIMOAF'), 'lead_symbols':2000}\n",
    "DBP_info = {'step':step, 'dtaps': dtaps,  'ntaps':ntaps, 'n_init':zeros, 'meta': 'scaler', 'batch_size':2000,\n",
    "            'linear_kernel_type':'physical', 'linear_share':True, 'nonlinear_share':True,'optic_params_trainable': False, \n",
    "            'L':2000e3, 'D':16.5, 'Fc':299792458/1550E-9, 'gamma':0.0016567}\n",
    "\n",
    "mimo_info = {'taps':32}\n",
    "\n",
    "private_info = {'Fs':2*160*1e9, 'Fi':299792458/1550E-9, 'sps':2, 'Nmodes':1}\n",
    "\n",
    "model_info = freeze({'struct_info':struct_info, 'DBP_info':DBP_info, 'mimo_info':mimo_info, 'private_info':private_info})\n",
    "\n",
    "a = Model()\n",
    "a.init(model_info=model_info,batch_dim=train_data.y.shape[0], update_state=True)\n",
    "a.update_data(train_data, train_info, 2000)\n",
    "a.update_optimizer(optax.experimental.split_real_and_imaginary(optax.adam(learning_rate=1e-4)), device=device)\n",
    "\n",
    "for i in range(20):\n",
    "    a.save(f'models/jax/model_MetaDBP_LMS_{i*100}')\n",
    "    a.train(100)\n",
    "a.save(f'models/jax/model_MetaDBP_LMS_2000')"
   ]
  },
  {
   "cell_type": "code",
   "execution_count": 3,
   "metadata": {},
   "outputs": [
    {
     "name": "stdout",
     "output_type": "stream",
     "text": [
      "load model complete. remember to update data before training.\n"
     ]
    }
   ],
   "source": [
    "a = Model.load(f'models/jax/model_MetaDBP_LMS_300')"
   ]
  },
  {
   "cell_type": "code",
   "execution_count": null,
   "metadata": {},
   "outputs": [],
   "source": [
    "plt.plot(a.TS.l_list)"
   ]
  },
  {
   "cell_type": "code",
   "execution_count": 1,
   "metadata": {},
   "outputs": [
    {
     "name": "stdout",
     "output_type": "stream",
     "text": [
      "torch.Size([4, 10000, 100])\n",
      "torch.Size([16, 10000, 100])\n",
      "tensor(0)\n"
     ]
    }
   ],
   "source": [
    "from src.TorchSimulation.transmitter import QAM\n",
    "from src.TorchSimulation.receiver import BER\n",
    "import torch, pickle\n",
    "\n",
    "mod = QAM(16)\n",
    "\n",
    "bits = torch.randint(0, 2,(16, 10000, 100))\n",
    "symbs = mod.modulate(bits, dim=0)\n",
    "print(symbs.shape)\n",
    "\n",
    "bits_ = mod.demodulate(symbs, dim=0)\n",
    "print(bits_.shape)\n",
    "\n",
    "print(torch.sum(torch.abs(bits - bits_)))"
   ]
  },
  {
   "cell_type": "code",
   "execution_count": 2,
   "metadata": {},
   "outputs": [],
   "source": [
    "y,x,t = pickle.load(open('res.pkl','rb'))"
   ]
  },
  {
   "cell_type": "code",
   "execution_count": 4,
   "metadata": {},
   "outputs": [],
   "source": [
    "res = BER(torch.tensor(y), torch.tensor(x))"
   ]
  }
 ],
 "metadata": {
  "kernelspec": {
   "display_name": "fiber",
   "language": "python",
   "name": "python3"
  },
  "language_info": {
   "codemirror_mode": {
    "name": "ipython",
    "version": 3
   },
   "file_extension": ".py",
   "mimetype": "text/x-python",
   "name": "python",
   "nbconvert_exporter": "python",
   "pygments_lexer": "ipython3",
   "version": "3.9.12"
  },
  "orig_nbformat": 4
 },
 "nbformat": 4,
 "nbformat_minor": 2
}
