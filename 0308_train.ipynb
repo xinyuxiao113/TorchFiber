{
 "cells": [
  {
   "cell_type": "code",
   "execution_count": 1,
   "metadata": {},
   "outputs": [],
   "source": [
    "import pickle , matplotlib.pyplot as plt, torch, numpy as np, argparse, time, os, scipy\n",
    "from sklearn import linear_model\n",
    "from torch.utils.data import DataLoader, Dataset\n",
    "import numpy as np\n",
    "import matplotlib.pyplot as plt\n",
    "from src.TorchDSP.pbc_new import NonlienarFeatures, FoPBC\n",
    "from src.TorchDSP.dataloader import  get_signals\n",
    "from src.TorchSimulation.receiver import  BER\n",
    "\n",
    "train_path = \"data/train_data_afterCDCDSP.pkl\"\n",
    "test_path = \"data/test_data_afterCDCDSP.pkl\"\n",
    "\n",
    "class Data(Dataset):\n",
    "    def __init__(self, Nch=1, Rs=40, Pch=0, L=400, rho=1, index_type='reduce-1', trucation=[2000, -2000]):\n",
    "        signal, truth, code = get_signals(train_path, Nch=Nch, Rs=Rs, Pch=[Pch],  device='cpu')\n",
    "        self.f = NonlienarFeatures(Nmodes=1, rho=rho, L = L, index_type=index_type)\n",
    "        self.index = self.f.index\n",
    "\n",
    "        # features\n",
    "        self.X0 = torch.squeeze(signal.val)[:, None][trucation]                          # [N]\n",
    "        self.X1 = torch.squeeze(self.f(signal.val, signal.val, signal.val))[trucation]   # [N, p]\n",
    "        self.X2 = (self.X0**2)[:,None] * self.X1                                         # [N, p]\n",
    "\n",
    "        # label\n",
    "        self.symb = torch.squeeze(truth.val)[truncation]                                 # [N] \n",
    "        self.Y = self.symb - self.X0                                                     # [N]     \n",
    "\n",
    "    def __len__(self):\n",
    "        return len(self.X0)\n",
    "    \n",
    "    def __getitem__(self, idx):\n",
    "        return self.X0[idx], self.X1[idx], self.X2[idx], self.Y[idx]    \n",
    "\n",
    "\n",
    "\n",
    "class Net(nn.Module):\n",
    "    '''\n",
    "    \n",
    "    '''\n",
    "    def __init__(self, p):\n",
    "        super(Net, self).__init__()\n",
    "        self.fc1 = nn.Linear(p, 100)\n",
    "        self.fc2 = nn.Linear(100, 100)\n",
    "        self.fc3 = nn.Linear(100, 1)\n",
    "\n",
    "    def forward(self, x):\n",
    "        x = F.relu(self.fc1(x))\n",
    "        x = F.relu(self.fc2(x))\n",
    "        x = self.fc3(x)\n",
    "        return x\n"
   ]
  },
  {
   "cell_type": "code",
   "execution_count": null,
   "metadata": {},
   "outputs": [],
   "source": [
    "train_path = \"data/train_data_afterCDCDSP.pkl\"\n",
    "test_path = \"data/test_data_afterCDCDSP.pkl\"\n",
    "\n",
    "train_signal, train_truth, train_z = get_signals(train_path, Nch=1, Rs=40, Pch=[test_p], device='cpu')\n",
    "test_signal, test_truth, test_z = get_signals(test_path, Nch=1, Rs=40, Pch=[test_p], device='cpu')\n",
    "    \n",
    "\n",
    "f = NonlienarFeatures(Nmodes=1, rho=1, L = 400, index_type='reduce-1')\n",
    "\n",
    "X_train = torch.cat([torch.squeeze(train_signal.val)[:, None], torch.squeeze(f(train_signal.val, train_signal.val, train_signal.val))], dim=1)\n",
    "X_test  = torch.cat([torch.squeeze(test_signal.val)[:, None], torch.squeeze(f(test_signal.val, test_signal.val, test_signal.val))], dim=1)\n"
   ]
  }
 ],
 "metadata": {
  "kernelspec": {
   "display_name": "fiber",
   "language": "python",
   "name": "python3"
  },
  "language_info": {
   "codemirror_mode": {
    "name": "ipython",
    "version": 3
   },
   "file_extension": ".py",
   "mimetype": "text/x-python",
   "name": "python",
   "nbconvert_exporter": "python",
   "pygments_lexer": "ipython3",
   "version": "3.9.12"
  }
 },
 "nbformat": 4,
 "nbformat_minor": 2
}
