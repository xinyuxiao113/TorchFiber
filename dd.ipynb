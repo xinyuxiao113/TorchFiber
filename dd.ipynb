{
 "cells": [
  {
   "cell_type": "code",
   "execution_count": 87,
   "metadata": {},
   "outputs": [],
   "source": [
    "import h5py\n",
    "\n",
    "f = h5py.File('dataset/train.h5', 'r')"
   ]
  },
  {
   "cell_type": "code",
   "execution_count": 88,
   "metadata": {},
   "outputs": [
    {
     "name": "stdout",
     "output_type": "stream",
     "text": [
      "Nmodes2_Rs40_Nch3_Pch-1_749701719\n",
      "Nmodes2_Rs40_Nch3_Pch-1_749701719/Rx(sps=2,chid=0)\n",
      "Nmodes2_Rs40_Nch3_Pch-1_749701719/Rx(sps=2,chid=0)/Rx\n",
      "Nmodes2_Rs40_Nch3_Pch-1_749701719/Rx(sps=2,chid=0)/Rx_CDC\n",
      "Nmodes2_Rs40_Nch3_Pch-1_749701719/Rx(sps=2,chid=0)/Rx_CDCDDLMS\n",
      "Nmodes2_Rs40_Nch3_Pch-1_749701719/Rx(sps=2,chid=0)/Tx\n",
      "Nmodes2_Rs40_Nch3_Pch-1_749701719/Rx(sps=2,chid=0)/info\n",
      "Nmodes2_Rs40_Nch3_Pch-1_749701719/SignalRx\n",
      "Nmodes2_Rs40_Nch3_Pch-1_749701719/SymbTx\n",
      "Nmodes2_Rs40_Nch3_Pch-1_749701719/pulse\n"
     ]
    }
   ],
   "source": [
    "f.visit(print)"
   ]
  },
  {
   "cell_type": "code",
   "execution_count": 89,
   "metadata": {},
   "outputs": [],
   "source": [
    "from src.TorchSimulation.receiver import BER\n",
    "import torch"
   ]
  },
  {
   "cell_type": "code",
   "execution_count": 91,
   "metadata": {},
   "outputs": [],
   "source": [
    "for key in f.keys():\n",
    "    y = f[f'{key}/Rx(sps=2,chid=0)/Rx_CDCDDLMS']\n",
    "\n",
    "    x1 = torch.from_numpy(y[...])\n",
    "    x = torch.from_numpy(f[f'{key}/Rx(sps=2,chid=0)/Tx'][:,y.attrs['start']:y.attrs['stop']])"
   ]
  }
 ],
 "metadata": {
  "kernelspec": {
   "display_name": "fiber",
   "language": "python",
   "name": "python3"
  },
  "language_info": {
   "codemirror_mode": {
    "name": "ipython",
    "version": 3
   },
   "file_extension": ".py",
   "mimetype": "text/x-python",
   "name": "python",
   "nbconvert_exporter": "python",
   "pygments_lexer": "ipython3",
   "version": "3.9.18"
  }
 },
 "nbformat": 4,
 "nbformat_minor": 2
}
